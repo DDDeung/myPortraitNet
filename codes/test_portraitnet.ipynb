{
 "cells": [
  {
   "cell_type": "raw",
   "id": "b24c026a-246b-4c67-bca2-2120b08b1742",
   "metadata": {
    "tags": []
   },
   "source": [
    "import numpy as np\n",
    "import torch\n",
    "from torch.utils.data import DataLoader\n",
    "from train import *\n",
    "# from test import *\n",
    "from portraitNet import ProtraitNet\n",
    "import torchvision.models.mobilenetv2\n",
    "from easydict import EasyDict as edict\n",
    "from data.datasets import *\n"
   ]
  },
  {
   "cell_type": "code",
   "execution_count": 30,
   "id": "c95c6671-55c8-4dae-809a-41373219f1db",
   "metadata": {},
   "outputs": [],
   "source": [
    "import imp\n",
    "from tqdm import tqdm\n",
    "import torch\n",
    "import torch.nn as nn\n",
    "import numpy as np\n",
    "from loss import *\n",
    "from torch.autograd import Variable\n",
    "import copy\n",
    "from metrice import *\n",
    "\n",
    "# -----model hyperparameters-------\n",
    "# temperature in consistency constraint loss\n",
    "temperature = 1\n",
    "# the weight of consistency constraint loss\n",
    "alpha = 2\n",
    "\n",
    "\n",
    "def test(dataloader, model , device = \"cpu\"):\n",
    "    # switch to eval mode\n",
    "    model.eval()# switch to eval mode\n",
    "    \n",
    "    loss_Focalloss = FocalLoss(gamma=2)\n",
    "    loss_Softmax = nn.CrossEntropyLoss(ignore_index=255)\n",
    "    losses = []\n",
    "    \n",
    "    loader = tqdm(dataloader)\n",
    "    iou = 0\n",
    "\n",
    "    with torch.no_grad():\n",
    "        # for idx, (img, mask, mask_boundary) in enumerate(loader):\n",
    "        for i, (input_ori, input, edge, mask) in enumerate(loader):\n",
    "            # Send to device\n",
    "            input_ori = input_ori.to(device)\n",
    "            input = input.to(device)\n",
    "            mask = mask.to(device)\n",
    "            edge = edge.to(device)\n",
    "\n",
    "            # load input to model\n",
    "            output_mask_texture, output_edge_texture = model(input)\n",
    "            output_mask_deformation, output_edge_deformation = model(input_ori)\n",
    "\n",
    "            # mask loss and edge loss\n",
    "            loss_mask_texture = loss_Softmax(output_mask_texture, mask)\n",
    "            loss_edge_texture = loss_Focalloss(output_edge_texture, edge) * 0.1\n",
    "            loss_mask_deformation = loss_Softmax(output_mask_deformation, mask)\n",
    "            loss_edge_deformation = loss_Focalloss(output_edge_deformation, edge) * 0.1\n",
    "\n",
    "            # consistency constraint loss: KL distance\n",
    "            loss_kl_mask = loss_KL(output_mask_texture, Variable(output_mask_deformation.data, requires_grad=False),\n",
    "                                temperature) * alpha\n",
    "            loss_kl_edge = loss_KL(output_edge_texture, Variable(output_edge_deformation.data, requires_grad=False),\n",
    "                                temperature) * alpha * 0.1\n",
    "\n",
    "            #total loss\n",
    "            # loss = loss_mask_texture + loss_edge_texture + loss_mask_deformation + loss_edge_deformation + loss_kl_mask + loss_kl_edge\n",
    "            # loss = loss_mask + loss_mask_ori + loss_kl_mask + loss_edge\n",
    "            loss = loss_mask_texture + loss_mask_deformation + loss_kl_mask + loss_edge_texture\n",
    "                \n",
    "            losses.append(loss.item())\n",
    "\n",
    "            softmax = nn.Softmax(dim=1)\n",
    "            prob = softmax(output_mask_texture)[0,1,:,:]\n",
    "            pred = prob.data.cpu().numpy()\n",
    "            pred[pred>0.5] = 1\n",
    "            pred[pred<=0.5] = 0\n",
    "            iou += calcIOU(pred, mask[0].data.cpu().numpy())\n",
    "\n",
    "    return sum(losses)/len(losses),  iou / len(loader)"
   ]
  },
  {
   "cell_type": "code",
   "execution_count": 31,
   "id": "0b7420fa-c4ed-4b51-b072-dfb972a52de3",
   "metadata": {},
   "outputs": [],
   "source": [
    "import torch\n",
    "import torch.nn as nn\n",
    "from tqdm import tqdm\n",
    "from loss import *\n",
    "from torch.autograd import Variable\n",
    "from metrice import *\n",
    "\n",
    "batch_size = 64\n",
    "\n",
    "epoches = 2000\n",
    "\n",
    "weight_decay = 5e-4\n",
    "\n",
    "learning_rate = 1e-3\n",
    "\n",
    "lr_decay = 0.95\n",
    "\n",
    "lr_decay_epoch = epoches // 20\n",
    "\n",
    "\n",
    "# -----model hyperparameters-------\n",
    "# temperature in consistency constraint loss\n",
    "temperature = 1\n",
    "# the weight of consistency constraint loss\n",
    "alpha = 2\n",
    "\n",
    "# def adjust_learning_rate(optimizer, epoch, multiple):\n",
    "#     \"\"\"Sets the learning rate to the initial LR decayed by 0.95 every 20 epochs\"\"\"\n",
    "#     lr = learning_rate * (lr_decay ** (epoch // 20))\n",
    "#     for i, param_group in enumerate(optimizer.param_groups):\n",
    "#         param_group['lr'] = lr * multiple[i]\n",
    "#     pass\n",
    "\n",
    "\n",
    "def train(dataloader, model, optimizer, device=\"cpu\"):\n",
    "    model.train()  # switch to train mode\n",
    "    loss_Softmax = nn.CrossEntropyLoss(ignore_index=255) # mask loss\n",
    "    loss_Focalloss = FocalLoss(gamma=2) # boundary loss\n",
    "\n",
    "    losses = []\n",
    "    iou = 0\n",
    "    loader = tqdm(dataloader)\n",
    "\n",
    "    # for i, (input_deformation, input_texture, mask, mask_boundary) in enumerate(loader):\n",
    "    for i, (input_deformation, input_texture, mask_boundary, mask) in enumerate(loader):\n",
    "\n",
    "        #Send to device\n",
    "        input_deformation = input_deformation.to(device)\n",
    "        input_texture = input_texture.to(device)\n",
    "        mask = mask.to(device)\n",
    "        mask_boundary = mask_boundary.to(device)\n",
    "\n",
    "        #load input to model\n",
    "        output_mask_deformation, output_edge_deformation = model(input_deformation)\n",
    "        output_mask_texture, output_edge_texture = model(input_texture)\n",
    "\n",
    "        #mask loss and edge loss\n",
    "        loss_mask_texture = loss_Softmax(output_mask_texture,mask)\n",
    "        loss_edge_texture = loss_Focalloss(output_edge_texture,mask_boundary)*0.1\n",
    "        loss_mask_deformation = loss_Softmax(output_mask_deformation,mask)\n",
    "        loss_edge_deformation = loss_Focalloss(output_edge_deformation,mask_boundary)*0.1\n",
    "       \n",
    "       # consistency constraint loss: KL distance\n",
    "        loss_kl_mask = loss_KL(output_mask_texture, Variable(output_mask_deformation.data, requires_grad=False),\n",
    "                              temperature) * alpha\n",
    "        loss_kl_edge = loss_KL(output_edge_texture, Variable(output_edge_deformation.data, requires_grad=False),\n",
    "                              temperature) * alpha * 0.1\n",
    "\n",
    "        #total loss\n",
    "        # loss = loss_mask_texture + loss_edge_texture + loss_mask_deformation + loss_edge_deformation + loss_kl_mask + loss_kl_edge\n",
    "        # loss = loss_mask + loss_mask_ori + loss_kl_mask + loss_edge\n",
    "        loss = loss_mask_texture + loss_mask_deformation + loss_kl_mask + loss_edge_texture\n",
    "        \n",
    "        # compute gradient and do Adam step\n",
    "        optimizer.zero_grad()\n",
    "        loss.backward()\n",
    "        optimizer.step()\n",
    "\n",
    "        # loader.set_postfix(loss=loss.item())\n",
    "\n",
    "        losses.append(loss.item())\n",
    "\n",
    "        softmax = nn.Softmax(dim=1)\n",
    "        prob = softmax(output_mask_texture)[0,1,:,:]\n",
    "        pred = prob.data.cpu().numpy()\n",
    "        pred[pred>0.5] = 1\n",
    "        pred[pred<=0.5] = 0\n",
    "        iou += calcIOU(pred, mask[0].data.cpu().numpy())\n",
    "\n",
    "    \n",
    "    return sum(losses)/len(losses), iou / len(dataloader)"
   ]
  },
  {
   "cell_type": "code",
   "execution_count": 32,
   "id": "66e47569-e70e-4062-bc3f-fb3f8e90edcd",
   "metadata": {},
   "outputs": [],
   "source": [
    "def main():\n",
    "    device = torch.device(\"cuda\" if torch.cuda.is_available() else \"cpu\")\n",
    "    # -------use official dataset definition--------------\n",
    "    exp_args = edict()\n",
    "    exp_args.istrain = True\n",
    "    exp_args.task = 'seg'\n",
    "    exp_args.datasetlist =['EG1800']\n",
    "    exp_args.data_root = './'\n",
    "    exp_args.file_root = './EG1800'\n",
    "\n",
    "    exp_args.input_height = 224\n",
    "    exp_args.input_width = 224\n",
    "\n",
    "\n",
    "    exp_args.prior_prob = 0.5 # the probability to set empty prior channel\n",
    "\n",
    "    exp_args.edgeRatio = 0.1 # the weight of boundary auxiliary loss\n",
    "    # exp_args.stability = True\n",
    "    exp_args.temperature = 1 # the temperature in consistency constraint loss, default=1\n",
    "    exp_args.alpha = 2 # the weight of consistency constraint loss, default=2\n",
    "    ############################\n",
    "    exp_args.padding_color=128 # input normalization parameters\n",
    "    exp_args.img_scale = 1\n",
    "    exp_args.img_mean = [103.94, 116.78, 123.68] # BGR order, image mean\n",
    "    exp_args.img_val = [0.017, 0.017, 0.017] # BGR order, image val, default=[1/0.017, 1/0.017, 1/0.017]\n",
    "    ##########################\n",
    "    exp_args.init = False # whether to use pretrained model to init portraitnet\n",
    "    exp_args.resume = False # whether to continue training\n",
    "\n",
    "    # set training dataset\n",
    "    exp_args.learning_rate = 1e-3\n",
    "    exp_args.momentum = 0.9\n",
    "    exp_args.weight_decay = 5e-4\n",
    "    exp_args.batch_size = 1\n",
    "    #######################下面没什么用\n",
    "    exp_args.addEdge = True\n",
    "    exp_args.stability = True\n",
    "    exp_args.use_kl = True\n",
    "    exp_args.useUpsample = False\n",
    "    exp_args.useDeconvGroup = False\n",
    "    exp_args.video = False\n",
    "    exp_args.istrain = True\n",
    "\n",
    "    dataset_train = Human(exp_args)\n",
    "    dataLoader_train = torch.utils.data.DataLoader(dataset_train, batch_size=64,\n",
    "                                                   shuffle=True)\n",
    "\n",
    "    # set testing dataset\n",
    "    exp_args.istrain = False\n",
    "    dataset_test = Human(exp_args)\n",
    "    dataLoader_test = torch.utils.data.DataLoader(dataset_test, batch_size=64,\n",
    "                                                  shuffle=False)\n",
    "    #---------------------------\n",
    "    #Get model\n",
    "    portrait_net = ProtraitNet(n_class=2)\n",
    "\n",
    "#     #use some weights\n",
    "#     pretrained_mobilenet_dict = torch.load(\"./mobilenet_v2-b0353104.pth\")\n",
    "#     pretrained_mobilenet_dict_keys = list(pretrained_mobilenet_dict.keys())\n",
    "#     portrait_net_dict = portrait_net.state_dict()\n",
    "#     portrait_net_dict_keys = list( portrait_net.state_dict().keys())\n",
    "#     print (\"pretrained mobilenetv2 keys: \", len(pretrained_mobilenet_dict))\n",
    "#     print (\"portraitnet keys: \", len(portrait_net_dict_keys))\n",
    "#     weights_load = {}\n",
    "#     for k in range(len(pretrained_mobilenet_dict_keys)):\n",
    "#         if pretrained_mobilenet_dict[pretrained_mobilenet_dict_keys[k]].shape == \\\n",
    "#         portrait_net_dict[portrait_net_dict_keys[k]].shape:\n",
    "#             weights_load[portrait_net_dict_keys[k]] = pretrained_mobilenet_dict[pretrained_mobilenet_dict_keys[k]]\n",
    "#             print ('init model', portrait_net_dict_keys[k],\n",
    "#                    'from pretrained', portrait_net_dict_keys[k])\n",
    "#         else:\n",
    "#             break\n",
    "#     print (\"init len is:\", len(weights_load))\n",
    "#     portrait_net_dict.update(weights_load)\n",
    "#     portrait_net.load_state_dict(portrait_net_dict)\n",
    "#     print (\"load model init finish...\")\n",
    "    portrait_net.to(device)\n",
    "\n",
    "    #Get optimizer\n",
    "    optimizer = torch.optim.Adam(portrait_net.parameters(), lr=learning_rate, weight_decay=weight_decay)\n",
    "\n",
    "    #Get Lr scheduler\n",
    "    lr_scheduler = torch.optim.lr_scheduler.StepLR(optimizer,lr_decay_epoch,lr_decay)\n",
    "\n",
    "    current_epoch = 0\n",
    "    min_val_loss = 10000\n",
    "    train_losses = []\n",
    "    test_losses = []\n",
    "    test_miou = 0\n",
    "\n",
    "    #Get optimizer\n",
    "    for g in optimizer.param_groups:\n",
    "        g['lr']=1e-3\n",
    "\n",
    "    best_val_iou = 0\n",
    "    # minLoss = 10000\n",
    "\n",
    "    for epoch in range(current_epoch, epoches):\n",
    "        print(\"Epoch : {}/{} , learning rate : {}\".format(epoch,epoches,optimizer.param_groups[0]['lr']))\n",
    "        train_loss, train_iou = train(dataLoader_train,portrait_net,optimizer,device)\n",
    "         # Print the information.\n",
    "        print(f\"[ Train | {epoch:03d}/{epoches:03d} ] train_loss = {train_loss:.5f}, train_iou = {train_iou:.5f}\")\n",
    "\n",
    "        test_loss, test_iou = test(dataLoader_test,portrait_net,device)\n",
    "        # Print the information.\n",
    "        print(f\"[ Valid | {epoch:03d}/{epoches:03d} ] test_loss  = {test_loss:.5f}, test_loss = {test_loss:.5f}\")\n",
    "\n",
    "        train_losses.append(train_loss)\n",
    "        test_losses.append(test_loss)\n",
    "        \n",
    "#         if test_loss < minLoss:\n",
    "#             minLoss = test_loss\n",
    "#             print(f\"[ Valid | {epoch:03d}/{epoches:03d} ] test_loss = {test_loss:.5f} -> best\")\n",
    "#             print(f\"Best model found at epoch {epoch}, saving model\")\n",
    "#             torch.save(portrait_net.state_dict(), f\"./myPortraitNet.ckpt\") # only save best to prevent output memory exceed error\n",
    "\n",
    "\n",
    "         # update logs\n",
    "        if test_iou > best_val_iou:\n",
    "            with open(f\"./log.txt\",\"a\"):\n",
    "                print(f\"[ Valid | {epoch + 1:03d}/{epoches:03d} ] test_loss = {test_loss:.5f}, test_iou = {test_iou:.5f} -> best\")\n",
    "        else:\n",
    "            with open(f\"./log.txt\",\"a\"):\n",
    "                print(f\"[ Valid | {epoch + 1:03d}/{epoches:03d} ] test_loss = {test_loss:.5f}, test_iou = {test_iou:.5f}\")\n",
    "\n",
    "        # Save best model\n",
    "        if test_iou > best_val_iou:\n",
    "            print(f\"Best model found at epoch {epoch}, saving model\")\n",
    "            torch.save(portrait_net.state_dict(), f\"./myPortraitNet.ckpt\") # only save best to prevent output memory exceed error\n",
    "            best_val_iou = test_iou\n",
    "\n",
    "        print(\"Train Loss : {}, Test Loss : {} , Test IOU : {} , best Test mIOU : {}\".format(train_loss,test_loss,test_iou,best_val_iou))\n",
    "        lr_scheduler.step()"
   ]
  },
  {
   "cell_type": "code",
   "execution_count": 33,
   "id": "7d9540c0-7fdb-4913-acbf-b623e4838c34",
   "metadata": {
    "tags": []
   },
   "outputs": [
    {
     "name": "stdout",
     "output_type": "stream",
     "text": [
      "Epoch : 0/2000 , learning rate : 0.001\n"
     ]
    },
    {
     "name": "stderr",
     "output_type": "stream",
     "text": [
      "100%|██████████| 23/23 [00:32<00:00,  1.41s/it]\n"
     ]
    },
    {
     "name": "stdout",
     "output_type": "stream",
     "text": [
      "[ Train | 000/2000 ] train_loss = 1.83389, train_iou = 0.42277\n"
     ]
    },
    {
     "name": "stderr",
     "output_type": "stream",
     "text": [
      "100%|██████████| 5/5 [00:05<00:00,  1.02s/it]\n"
     ]
    },
    {
     "name": "stdout",
     "output_type": "stream",
     "text": [
      "[ Valid | 000/2000 ] test_loss  = 1.59279, test_loss = 1.59279\n",
      "[ Valid | 001/2000 ] test_loss = 1.59279, test_iou = 0.41954 -> best\n",
      "Best model found at epoch 0, saving model\n",
      "Train Loss : 1.833890816439753, Test Loss : 1.5927927494049072 , Test IOU : 0.4195437102128494 , best Test mIOU : 0.4195437102128494\n",
      "Epoch : 1/2000 , learning rate : 0.001\n"
     ]
    },
    {
     "name": "stderr",
     "output_type": "stream",
     "text": [
      "100%|██████████| 23/23 [00:30<00:00,  1.34s/it]\n"
     ]
    },
    {
     "name": "stdout",
     "output_type": "stream",
     "text": [
      "[ Train | 001/2000 ] train_loss = 1.50468, train_iou = 0.51032\n"
     ]
    },
    {
     "name": "stderr",
     "output_type": "stream",
     "text": [
      "100%|██████████| 5/5 [00:05<00:00,  1.04s/it]\n"
     ]
    },
    {
     "name": "stdout",
     "output_type": "stream",
     "text": [
      "[ Valid | 001/2000 ] test_loss  = 1.40268, test_loss = 1.40268\n",
      "[ Valid | 002/2000 ] test_loss = 1.40268, test_iou = 0.61615 -> best\n",
      "Best model found at epoch 1, saving model\n",
      "Train Loss : 1.5046793896219004, Test Loss : 1.4026780605316163 , Test IOU : 0.6161546928393242 , best Test mIOU : 0.6161546928393242\n",
      "Epoch : 2/2000 , learning rate : 0.001\n"
     ]
    },
    {
     "name": "stderr",
     "output_type": "stream",
     "text": [
      "100%|██████████| 23/23 [00:29<00:00,  1.30s/it]\n"
     ]
    },
    {
     "name": "stdout",
     "output_type": "stream",
     "text": [
      "[ Train | 002/2000 ] train_loss = 1.29373, train_iou = 0.57930\n"
     ]
    },
    {
     "name": "stderr",
     "output_type": "stream",
     "text": [
      "100%|██████████| 5/5 [00:05<00:00,  1.03s/it]\n"
     ]
    },
    {
     "name": "stdout",
     "output_type": "stream",
     "text": [
      "[ Valid | 002/2000 ] test_loss  = 1.13670, test_loss = 1.13670\n",
      "[ Valid | 003/2000 ] test_loss = 1.13670, test_iou = 0.68832 -> best\n",
      "Best model found at epoch 2, saving model\n",
      "Train Loss : 1.2937332184418389, Test Loss : 1.1366965532302857 , Test IOU : 0.6883225599565577 , best Test mIOU : 0.6883225599565577\n",
      "Epoch : 3/2000 , learning rate : 0.001\n"
     ]
    },
    {
     "name": "stderr",
     "output_type": "stream",
     "text": [
      "100%|██████████| 23/23 [00:31<00:00,  1.36s/it]\n"
     ]
    },
    {
     "name": "stdout",
     "output_type": "stream",
     "text": [
      "[ Train | 003/2000 ] train_loss = 1.05119, train_iou = 0.65129\n"
     ]
    },
    {
     "name": "stderr",
     "output_type": "stream",
     "text": [
      "100%|██████████| 5/5 [00:05<00:00,  1.05s/it]\n"
     ]
    },
    {
     "name": "stdout",
     "output_type": "stream",
     "text": [
      "[ Valid | 003/2000 ] test_loss  = 0.90146, test_loss = 0.90146\n",
      "[ Valid | 004/2000 ] test_loss = 0.90146, test_iou = 0.68178\n",
      "Train Loss : 1.051192325094472, Test Loss : 0.9014572501182556 , Test IOU : 0.6817825102988663 , best Test mIOU : 0.6883225599565577\n",
      "Epoch : 4/2000 , learning rate : 0.001\n"
     ]
    },
    {
     "name": "stderr",
     "output_type": "stream",
     "text": [
      "100%|██████████| 23/23 [00:31<00:00,  1.36s/it]\n"
     ]
    },
    {
     "name": "stdout",
     "output_type": "stream",
     "text": [
      "[ Train | 004/2000 ] train_loss = 0.88228, train_iou = 0.68457\n"
     ]
    },
    {
     "name": "stderr",
     "output_type": "stream",
     "text": [
      "100%|██████████| 5/5 [00:05<00:00,  1.15s/it]\n"
     ]
    },
    {
     "name": "stdout",
     "output_type": "stream",
     "text": [
      "[ Valid | 004/2000 ] test_loss  = 0.73765, test_loss = 0.73765\n",
      "[ Valid | 005/2000 ] test_loss = 0.73765, test_iou = 0.76930 -> best\n",
      "Best model found at epoch 4, saving model\n",
      "Train Loss : 0.8822792612988016, Test Loss : 0.7376516222953796 , Test IOU : 0.7692978210095924 , best Test mIOU : 0.7692978210095924\n",
      "Epoch : 5/2000 , learning rate : 0.001\n"
     ]
    },
    {
     "name": "stderr",
     "output_type": "stream",
     "text": [
      "100%|██████████| 23/23 [00:30<00:00,  1.34s/it]\n"
     ]
    },
    {
     "name": "stdout",
     "output_type": "stream",
     "text": [
      "[ Train | 005/2000 ] train_loss = 0.76132, train_iou = 0.77488\n"
     ]
    },
    {
     "name": "stderr",
     "output_type": "stream",
     "text": [
      "100%|██████████| 5/5 [00:05<00:00,  1.03s/it]\n"
     ]
    },
    {
     "name": "stdout",
     "output_type": "stream",
     "text": [
      "[ Valid | 005/2000 ] test_loss  = 0.65129, test_loss = 0.65129\n",
      "[ Valid | 006/2000 ] test_loss = 0.65129, test_iou = 0.78168 -> best\n",
      "Best model found at epoch 5, saving model\n",
      "Train Loss : 0.761316180229187, Test Loss : 0.65129154920578 , Test IOU : 0.7816798606924278 , best Test mIOU : 0.7816798606924278\n",
      "Epoch : 6/2000 , learning rate : 0.001\n"
     ]
    },
    {
     "name": "stderr",
     "output_type": "stream",
     "text": [
      "100%|██████████| 23/23 [00:31<00:00,  1.35s/it]\n"
     ]
    },
    {
     "name": "stdout",
     "output_type": "stream",
     "text": [
      "[ Train | 006/2000 ] train_loss = 0.70612, train_iou = 0.69891\n"
     ]
    },
    {
     "name": "stderr",
     "output_type": "stream",
     "text": [
      "100%|██████████| 5/5 [00:05<00:00,  1.12s/it]\n"
     ]
    },
    {
     "name": "stdout",
     "output_type": "stream",
     "text": [
      "[ Valid | 006/2000 ] test_loss  = 0.62952, test_loss = 0.62952\n",
      "[ Valid | 007/2000 ] test_loss = 0.62952, test_iou = 0.80345 -> best\n",
      "Best model found at epoch 6, saving model\n",
      "Train Loss : 0.7061239118161409, Test Loss : 0.6295230746269226 , Test IOU : 0.8034508526655433 , best Test mIOU : 0.8034508526655433\n",
      "Epoch : 7/2000 , learning rate : 0.001\n"
     ]
    },
    {
     "name": "stderr",
     "output_type": "stream",
     "text": [
      "100%|██████████| 23/23 [00:32<00:00,  1.39s/it]\n"
     ]
    },
    {
     "name": "stdout",
     "output_type": "stream",
     "text": [
      "[ Train | 007/2000 ] train_loss = 0.67445, train_iou = 0.72428\n"
     ]
    },
    {
     "name": "stderr",
     "output_type": "stream",
     "text": [
      "100%|██████████| 5/5 [00:06<00:00,  1.23s/it]\n"
     ]
    },
    {
     "name": "stdout",
     "output_type": "stream",
     "text": [
      "[ Valid | 007/2000 ] test_loss  = 0.57764, test_loss = 0.57764\n",
      "[ Valid | 008/2000 ] test_loss = 0.57764, test_iou = 0.82683 -> best\n",
      "Best model found at epoch 7, saving model\n",
      "Train Loss : 0.6744547538135363, Test Loss : 0.5776447594165802 , Test IOU : 0.8268284531975244 , best Test mIOU : 0.8268284531975244\n",
      "Epoch : 8/2000 , learning rate : 0.001\n"
     ]
    },
    {
     "name": "stderr",
     "output_type": "stream",
     "text": [
      "100%|██████████| 23/23 [00:33<00:00,  1.45s/it]\n"
     ]
    },
    {
     "name": "stdout",
     "output_type": "stream",
     "text": [
      "[ Train | 008/2000 ] train_loss = 0.61771, train_iou = 0.78202\n"
     ]
    },
    {
     "name": "stderr",
     "output_type": "stream",
     "text": [
      "100%|██████████| 5/5 [00:06<00:00,  1.23s/it]\n"
     ]
    },
    {
     "name": "stdout",
     "output_type": "stream",
     "text": [
      "[ Valid | 008/2000 ] test_loss  = 0.54448, test_loss = 0.54448\n",
      "[ Valid | 009/2000 ] test_loss = 0.54448, test_iou = 0.82434\n",
      "Train Loss : 0.6177140085593514, Test Loss : 0.5444814920425415 , Test IOU : 0.8243447258700594 , best Test mIOU : 0.8268284531975244\n",
      "Epoch : 9/2000 , learning rate : 0.001\n"
     ]
    },
    {
     "name": "stderr",
     "output_type": "stream",
     "text": [
      "100%|██████████| 23/23 [00:34<00:00,  1.49s/it]\n"
     ]
    },
    {
     "name": "stdout",
     "output_type": "stream",
     "text": [
      "[ Train | 009/2000 ] train_loss = 0.61843, train_iou = 0.80006\n"
     ]
    },
    {
     "name": "stderr",
     "output_type": "stream",
     "text": [
      "100%|██████████| 5/5 [00:06<00:00,  1.27s/it]\n"
     ]
    },
    {
     "name": "stdout",
     "output_type": "stream",
     "text": [
      "[ Valid | 009/2000 ] test_loss  = 0.53125, test_loss = 0.53125\n",
      "[ Valid | 010/2000 ] test_loss = 0.53125, test_iou = 0.84669 -> best\n",
      "Best model found at epoch 9, saving model\n",
      "Train Loss : 0.6184257631716521, Test Loss : 0.5312510192394256 , Test IOU : 0.846686310157539 , best Test mIOU : 0.846686310157539\n",
      "Epoch : 10/2000 , learning rate : 0.001\n"
     ]
    },
    {
     "name": "stderr",
     "output_type": "stream",
     "text": [
      "100%|██████████| 23/23 [00:33<00:00,  1.47s/it]\n"
     ]
    },
    {
     "name": "stdout",
     "output_type": "stream",
     "text": [
      "[ Train | 010/2000 ] train_loss = 0.57192, train_iou = 0.80750\n"
     ]
    },
    {
     "name": "stderr",
     "output_type": "stream",
     "text": [
      "100%|██████████| 5/5 [00:06<00:00,  1.28s/it]\n"
     ]
    },
    {
     "name": "stdout",
     "output_type": "stream",
     "text": [
      "[ Valid | 010/2000 ] test_loss  = 0.51976, test_loss = 0.51976\n",
      "[ Valid | 011/2000 ] test_loss = 0.51976, test_iou = 0.83525\n",
      "Train Loss : 0.5719238908394523, Test Loss : 0.5197588562965393 , Test IOU : 0.8352498087884335 , best Test mIOU : 0.846686310157539\n",
      "Epoch : 11/2000 , learning rate : 0.001\n"
     ]
    },
    {
     "name": "stderr",
     "output_type": "stream",
     "text": [
      "100%|██████████| 23/23 [00:34<00:00,  1.51s/it]\n"
     ]
    },
    {
     "name": "stdout",
     "output_type": "stream",
     "text": [
      "[ Train | 011/2000 ] train_loss = 0.56923, train_iou = 0.76847\n"
     ]
    },
    {
     "name": "stderr",
     "output_type": "stream",
     "text": [
      "100%|██████████| 5/5 [00:06<00:00,  1.29s/it]\n"
     ]
    },
    {
     "name": "stdout",
     "output_type": "stream",
     "text": [
      "[ Valid | 011/2000 ] test_loss  = 0.50204, test_loss = 0.50204\n",
      "[ Valid | 012/2000 ] test_loss = 0.50204, test_iou = 0.85467 -> best\n",
      "Best model found at epoch 11, saving model\n",
      "Train Loss : 0.5692316475121871, Test Loss : 0.5020421922206879 , Test IOU : 0.8546668801150934 , best Test mIOU : 0.8546668801150934\n",
      "Epoch : 12/2000 , learning rate : 0.001\n"
     ]
    },
    {
     "name": "stderr",
     "output_type": "stream",
     "text": [
      "100%|██████████| 23/23 [00:36<00:00,  1.59s/it]\n"
     ]
    },
    {
     "name": "stdout",
     "output_type": "stream",
     "text": [
      "[ Train | 012/2000 ] train_loss = 0.54010, train_iou = 0.76753\n"
     ]
    },
    {
     "name": "stderr",
     "output_type": "stream",
     "text": [
      "100%|██████████| 5/5 [00:07<00:00,  1.47s/it]\n"
     ]
    },
    {
     "name": "stdout",
     "output_type": "stream",
     "text": [
      "[ Valid | 012/2000 ] test_loss  = 0.48486, test_loss = 0.48486\n",
      "[ Valid | 013/2000 ] test_loss = 0.48486, test_iou = 0.82785\n",
      "Train Loss : 0.5400960626809493, Test Loss : 0.4848574995994568 , Test IOU : 0.82784676636707 , best Test mIOU : 0.8546668801150934\n",
      "Epoch : 13/2000 , learning rate : 0.001\n"
     ]
    },
    {
     "name": "stderr",
     "output_type": "stream",
     "text": [
      "100%|██████████| 23/23 [00:34<00:00,  1.49s/it]\n"
     ]
    },
    {
     "name": "stdout",
     "output_type": "stream",
     "text": [
      "[ Train | 013/2000 ] train_loss = 0.53496, train_iou = 0.76582\n"
     ]
    },
    {
     "name": "stderr",
     "output_type": "stream",
     "text": [
      "100%|██████████| 5/5 [00:06<00:00,  1.24s/it]\n"
     ]
    },
    {
     "name": "stdout",
     "output_type": "stream",
     "text": [
      "[ Valid | 013/2000 ] test_loss  = 0.50240, test_loss = 0.50240\n",
      "[ Valid | 014/2000 ] test_loss = 0.50240, test_iou = 0.84608\n",
      "Train Loss : 0.5349609566771466, Test Loss : 0.502400028705597 , Test IOU : 0.8460832362464034 , best Test mIOU : 0.8546668801150934\n",
      "Epoch : 14/2000 , learning rate : 0.001\n"
     ]
    },
    {
     "name": "stderr",
     "output_type": "stream",
     "text": [
      "100%|██████████| 23/23 [00:34<00:00,  1.49s/it]\n"
     ]
    },
    {
     "name": "stdout",
     "output_type": "stream",
     "text": [
      "[ Train | 014/2000 ] train_loss = 0.53575, train_iou = 0.79838\n"
     ]
    },
    {
     "name": "stderr",
     "output_type": "stream",
     "text": [
      "100%|██████████| 5/5 [00:05<00:00,  1.13s/it]\n"
     ]
    },
    {
     "name": "stdout",
     "output_type": "stream",
     "text": [
      "[ Valid | 014/2000 ] test_loss  = 0.45423, test_loss = 0.45423\n",
      "[ Valid | 015/2000 ] test_loss = 0.45423, test_iou = 0.88821 -> best\n",
      "Best model found at epoch 14, saving model\n",
      "Train Loss : 0.5357460379600525, Test Loss : 0.45423107743263247 , Test IOU : 0.8882107651562843 , best Test mIOU : 0.8882107651562843\n",
      "Epoch : 15/2000 , learning rate : 0.001\n"
     ]
    },
    {
     "name": "stderr",
     "output_type": "stream",
     "text": [
      "100%|██████████| 23/23 [00:34<00:00,  1.51s/it]\n"
     ]
    },
    {
     "name": "stdout",
     "output_type": "stream",
     "text": [
      "[ Train | 015/2000 ] train_loss = 0.49826, train_iou = 0.76094\n"
     ]
    },
    {
     "name": "stderr",
     "output_type": "stream",
     "text": [
      "100%|██████████| 5/5 [00:05<00:00,  1.13s/it]\n"
     ]
    },
    {
     "name": "stdout",
     "output_type": "stream",
     "text": [
      "[ Valid | 015/2000 ] test_loss  = 0.43338, test_loss = 0.43338\n",
      "[ Valid | 016/2000 ] test_loss = 0.43338, test_iou = 0.87207\n",
      "Train Loss : 0.4982592761516571, Test Loss : 0.43338161110877993 , Test IOU : 0.8720681228574337 , best Test mIOU : 0.8882107651562843\n",
      "Epoch : 16/2000 , learning rate : 0.001\n"
     ]
    },
    {
     "name": "stderr",
     "output_type": "stream",
     "text": [
      "100%|██████████| 23/23 [00:34<00:00,  1.48s/it]\n"
     ]
    },
    {
     "name": "stdout",
     "output_type": "stream",
     "text": [
      "[ Train | 016/2000 ] train_loss = 0.50423, train_iou = 0.82659\n"
     ]
    },
    {
     "name": "stderr",
     "output_type": "stream",
     "text": [
      "100%|██████████| 5/5 [00:06<00:00,  1.25s/it]\n"
     ]
    },
    {
     "name": "stdout",
     "output_type": "stream",
     "text": [
      "[ Valid | 016/2000 ] test_loss  = 0.43218, test_loss = 0.43218\n",
      "[ Valid | 017/2000 ] test_loss = 0.43218, test_iou = 0.86804\n",
      "Train Loss : 0.5042262453099956, Test Loss : 0.432177859544754 , Test IOU : 0.8680415742045575 , best Test mIOU : 0.8882107651562843\n",
      "Epoch : 17/2000 , learning rate : 0.001\n"
     ]
    },
    {
     "name": "stderr",
     "output_type": "stream",
     "text": [
      "100%|██████████| 23/23 [00:33<00:00,  1.47s/it]\n"
     ]
    },
    {
     "name": "stdout",
     "output_type": "stream",
     "text": [
      "[ Train | 017/2000 ] train_loss = 0.48956, train_iou = 0.83414\n"
     ]
    },
    {
     "name": "stderr",
     "output_type": "stream",
     "text": [
      "100%|██████████| 5/5 [00:06<00:00,  1.31s/it]\n"
     ]
    },
    {
     "name": "stdout",
     "output_type": "stream",
     "text": [
      "[ Valid | 017/2000 ] test_loss  = 0.43989, test_loss = 0.43989\n",
      "[ Valid | 018/2000 ] test_loss = 0.43989, test_iou = 0.88726\n",
      "Train Loss : 0.48955896755923395, Test Loss : 0.43988887071609495 , Test IOU : 0.8872607361927868 , best Test mIOU : 0.8882107651562843\n",
      "Epoch : 18/2000 , learning rate : 0.001\n"
     ]
    },
    {
     "name": "stderr",
     "output_type": "stream",
     "text": [
      "100%|██████████| 23/23 [00:34<00:00,  1.50s/it]\n"
     ]
    },
    {
     "name": "stdout",
     "output_type": "stream",
     "text": [
      "[ Train | 018/2000 ] train_loss = 0.48356, train_iou = 0.77854\n"
     ]
    },
    {
     "name": "stderr",
     "output_type": "stream",
     "text": [
      "100%|██████████| 5/5 [00:06<00:00,  1.27s/it]\n"
     ]
    },
    {
     "name": "stdout",
     "output_type": "stream",
     "text": [
      "[ Valid | 018/2000 ] test_loss  = 0.40295, test_loss = 0.40295\n",
      "[ Valid | 019/2000 ] test_loss = 0.40295, test_iou = 0.89317 -> best\n",
      "Best model found at epoch 18, saving model\n",
      "Train Loss : 0.48355925990187604, Test Loss : 0.4029472589492798 , Test IOU : 0.8931674720388297 , best Test mIOU : 0.8931674720388297\n",
      "Epoch : 19/2000 , learning rate : 0.001\n"
     ]
    },
    {
     "name": "stderr",
     "output_type": "stream",
     "text": [
      "100%|██████████| 23/23 [00:33<00:00,  1.46s/it]\n"
     ]
    },
    {
     "name": "stdout",
     "output_type": "stream",
     "text": [
      "[ Train | 019/2000 ] train_loss = 0.45992, train_iou = 0.81929\n"
     ]
    },
    {
     "name": "stderr",
     "output_type": "stream",
     "text": [
      "100%|██████████| 5/5 [00:06<00:00,  1.27s/it]\n"
     ]
    },
    {
     "name": "stdout",
     "output_type": "stream",
     "text": [
      "[ Valid | 019/2000 ] test_loss  = 0.40309, test_loss = 0.40309\n",
      "[ Valid | 020/2000 ] test_loss = 0.40309, test_iou = 0.90161 -> best\n",
      "Best model found at epoch 19, saving model\n",
      "Train Loss : 0.459923241449439, Test Loss : 0.4030911326408386 , Test IOU : 0.9016051639005157 , best Test mIOU : 0.9016051639005157\n",
      "Epoch : 20/2000 , learning rate : 0.001\n"
     ]
    },
    {
     "name": "stderr",
     "output_type": "stream",
     "text": [
      "100%|██████████| 23/23 [00:36<00:00,  1.58s/it]\n"
     ]
    },
    {
     "name": "stdout",
     "output_type": "stream",
     "text": [
      "[ Train | 020/2000 ] train_loss = 0.43769, train_iou = 0.86218\n"
     ]
    },
    {
     "name": "stderr",
     "output_type": "stream",
     "text": [
      "100%|██████████| 5/5 [00:06<00:00,  1.29s/it]\n"
     ]
    },
    {
     "name": "stdout",
     "output_type": "stream",
     "text": [
      "[ Valid | 020/2000 ] test_loss  = 0.39421, test_loss = 0.39421\n",
      "[ Valid | 021/2000 ] test_loss = 0.39421, test_iou = 0.90429 -> best\n",
      "Best model found at epoch 20, saving model\n",
      "Train Loss : 0.4376918492109879, Test Loss : 0.3942148506641388 , Test IOU : 0.9042866400414475 , best Test mIOU : 0.9042866400414475\n",
      "Epoch : 21/2000 , learning rate : 0.001\n"
     ]
    },
    {
     "name": "stderr",
     "output_type": "stream",
     "text": [
      "100%|██████████| 23/23 [00:34<00:00,  1.48s/it]\n"
     ]
    },
    {
     "name": "stdout",
     "output_type": "stream",
     "text": [
      "[ Train | 021/2000 ] train_loss = 0.42269, train_iou = 0.85649\n"
     ]
    },
    {
     "name": "stderr",
     "output_type": "stream",
     "text": [
      "100%|██████████| 5/5 [00:06<00:00,  1.27s/it]\n"
     ]
    },
    {
     "name": "stdout",
     "output_type": "stream",
     "text": [
      "[ Valid | 021/2000 ] test_loss  = 0.36030, test_loss = 0.36030\n",
      "[ Valid | 022/2000 ] test_loss = 0.36030, test_iou = 0.89870\n",
      "Train Loss : 0.42268561669017957, Test Loss : 0.3603032469749451 , Test IOU : 0.8987048243635674 , best Test mIOU : 0.9042866400414475\n",
      "Epoch : 22/2000 , learning rate : 0.001\n"
     ]
    },
    {
     "name": "stderr",
     "output_type": "stream",
     "text": [
      "100%|██████████| 23/23 [00:34<00:00,  1.49s/it]\n"
     ]
    },
    {
     "name": "stdout",
     "output_type": "stream",
     "text": [
      "[ Train | 022/2000 ] train_loss = 0.42657, train_iou = 0.86550\n"
     ]
    },
    {
     "name": "stderr",
     "output_type": "stream",
     "text": [
      "100%|██████████| 5/5 [00:06<00:00,  1.29s/it]\n"
     ]
    },
    {
     "name": "stdout",
     "output_type": "stream",
     "text": [
      "[ Valid | 022/2000 ] test_loss  = 0.37810, test_loss = 0.37810\n",
      "[ Valid | 023/2000 ] test_loss = 0.37810, test_iou = 0.89063\n",
      "Train Loss : 0.4265748275362927, Test Loss : 0.37809523940086365 , Test IOU : 0.890627217788005 , best Test mIOU : 0.9042866400414475\n",
      "Epoch : 23/2000 , learning rate : 0.001\n"
     ]
    },
    {
     "name": "stderr",
     "output_type": "stream",
     "text": [
      "100%|██████████| 23/23 [00:34<00:00,  1.49s/it]\n"
     ]
    },
    {
     "name": "stdout",
     "output_type": "stream",
     "text": [
      "[ Train | 023/2000 ] train_loss = 0.42094, train_iou = 0.85107\n"
     ]
    },
    {
     "name": "stderr",
     "output_type": "stream",
     "text": [
      "100%|██████████| 5/5 [00:05<00:00,  1.18s/it]\n"
     ]
    },
    {
     "name": "stdout",
     "output_type": "stream",
     "text": [
      "[ Valid | 023/2000 ] test_loss  = 0.33653, test_loss = 0.33653\n",
      "[ Valid | 024/2000 ] test_loss = 0.33653, test_iou = 0.90353\n",
      "Train Loss : 0.4209406764610954, Test Loss : 0.3365264475345612 , Test IOU : 0.9035275502476636 , best Test mIOU : 0.9042866400414475\n",
      "Epoch : 24/2000 , learning rate : 0.001\n"
     ]
    },
    {
     "name": "stderr",
     "output_type": "stream",
     "text": [
      "100%|██████████| 23/23 [00:34<00:00,  1.49s/it]\n"
     ]
    },
    {
     "name": "stdout",
     "output_type": "stream",
     "text": [
      "[ Train | 024/2000 ] train_loss = 0.40889, train_iou = 0.82219\n"
     ]
    },
    {
     "name": "stderr",
     "output_type": "stream",
     "text": [
      "100%|██████████| 5/5 [00:06<00:00,  1.24s/it]\n"
     ]
    },
    {
     "name": "stdout",
     "output_type": "stream",
     "text": [
      "[ Valid | 024/2000 ] test_loss  = 0.34089, test_loss = 0.34089\n",
      "[ Valid | 025/2000 ] test_loss = 0.34089, test_iou = 0.91186 -> best\n",
      "Best model found at epoch 24, saving model\n",
      "Train Loss : 0.40888674362846045, Test Loss : 0.3408925116062164 , Test IOU : 0.9118590667321522 , best Test mIOU : 0.9118590667321522\n",
      "Epoch : 25/2000 , learning rate : 0.001\n"
     ]
    },
    {
     "name": "stderr",
     "output_type": "stream",
     "text": [
      "100%|██████████| 23/23 [00:34<00:00,  1.48s/it]\n"
     ]
    },
    {
     "name": "stdout",
     "output_type": "stream",
     "text": [
      "[ Train | 025/2000 ] train_loss = 0.39815, train_iou = 0.84222\n"
     ]
    },
    {
     "name": "stderr",
     "output_type": "stream",
     "text": [
      "100%|██████████| 5/5 [00:06<00:00,  1.31s/it]\n"
     ]
    },
    {
     "name": "stdout",
     "output_type": "stream",
     "text": [
      "[ Valid | 025/2000 ] test_loss  = 0.31290, test_loss = 0.31290\n",
      "[ Valid | 026/2000 ] test_loss = 0.31290, test_iou = 0.90765\n",
      "Train Loss : 0.3981542665025462, Test Loss : 0.31290035843849184 , Test IOU : 0.9076508107726695 , best Test mIOU : 0.9118590667321522\n",
      "Epoch : 26/2000 , learning rate : 0.001\n"
     ]
    },
    {
     "name": "stderr",
     "output_type": "stream",
     "text": [
      "100%|██████████| 23/23 [00:34<00:00,  1.50s/it]\n"
     ]
    },
    {
     "name": "stdout",
     "output_type": "stream",
     "text": [
      "[ Train | 026/2000 ] train_loss = 0.38099, train_iou = 0.84817\n"
     ]
    },
    {
     "name": "stderr",
     "output_type": "stream",
     "text": [
      "100%|██████████| 5/5 [00:06<00:00,  1.27s/it]\n"
     ]
    },
    {
     "name": "stdout",
     "output_type": "stream",
     "text": [
      "[ Valid | 026/2000 ] test_loss  = 0.33311, test_loss = 0.33311\n",
      "[ Valid | 027/2000 ] test_loss = 0.33311, test_iou = 0.91280 -> best\n",
      "Best model found at epoch 26, saving model\n",
      "Train Loss : 0.38099075659461645, Test Loss : 0.3331094324588776 , Test IOU : 0.9128014006095405 , best Test mIOU : 0.9128014006095405\n",
      "Epoch : 27/2000 , learning rate : 0.001\n"
     ]
    },
    {
     "name": "stderr",
     "output_type": "stream",
     "text": [
      "100%|██████████| 23/23 [00:33<00:00,  1.46s/it]\n"
     ]
    },
    {
     "name": "stdout",
     "output_type": "stream",
     "text": [
      "[ Train | 027/2000 ] train_loss = 0.38649, train_iou = 0.84890\n"
     ]
    },
    {
     "name": "stderr",
     "output_type": "stream",
     "text": [
      "100%|██████████| 5/5 [00:06<00:00,  1.26s/it]\n"
     ]
    },
    {
     "name": "stdout",
     "output_type": "stream",
     "text": [
      "[ Valid | 027/2000 ] test_loss  = 0.30847, test_loss = 0.30847\n",
      "[ Valid | 028/2000 ] test_loss = 0.30847, test_iou = 0.91376 -> best\n",
      "Best model found at epoch 27, saving model\n",
      "Train Loss : 0.3864880541096563, Test Loss : 0.3084749639034271 , Test IOU : 0.9137603452491649 , best Test mIOU : 0.9137603452491649\n",
      "Epoch : 28/2000 , learning rate : 0.001\n"
     ]
    },
    {
     "name": "stderr",
     "output_type": "stream",
     "text": [
      "100%|██████████| 23/23 [00:33<00:00,  1.45s/it]\n"
     ]
    },
    {
     "name": "stdout",
     "output_type": "stream",
     "text": [
      "[ Train | 028/2000 ] train_loss = 0.37138, train_iou = 0.88260\n"
     ]
    },
    {
     "name": "stderr",
     "output_type": "stream",
     "text": [
      "100%|██████████| 5/5 [00:06<00:00,  1.24s/it]\n"
     ]
    },
    {
     "name": "stdout",
     "output_type": "stream",
     "text": [
      "[ Valid | 028/2000 ] test_loss  = 0.29698, test_loss = 0.29698\n",
      "[ Valid | 029/2000 ] test_loss = 0.29698, test_iou = 0.91335\n",
      "Train Loss : 0.37138355944467627, Test Loss : 0.296976900100708 , Test IOU : 0.9133494335188516 , best Test mIOU : 0.9137603452491649\n",
      "Epoch : 29/2000 , learning rate : 0.001\n"
     ]
    },
    {
     "name": "stderr",
     "output_type": "stream",
     "text": [
      "100%|██████████| 23/23 [00:33<00:00,  1.45s/it]\n"
     ]
    },
    {
     "name": "stdout",
     "output_type": "stream",
     "text": [
      "[ Train | 029/2000 ] train_loss = 0.37134, train_iou = 0.84105\n"
     ]
    },
    {
     "name": "stderr",
     "output_type": "stream",
     "text": [
      "100%|██████████| 5/5 [00:06<00:00,  1.26s/it]\n"
     ]
    },
    {
     "name": "stdout",
     "output_type": "stream",
     "text": [
      "[ Valid | 029/2000 ] test_loss  = 0.29118, test_loss = 0.29118\n",
      "[ Valid | 030/2000 ] test_loss = 0.29118, test_iou = 0.92544 -> best\n",
      "Best model found at epoch 29, saving model\n",
      "Train Loss : 0.3713368773460388, Test Loss : 0.2911829650402069 , Test IOU : 0.925443717377507 , best Test mIOU : 0.925443717377507\n",
      "Epoch : 30/2000 , learning rate : 0.001\n"
     ]
    },
    {
     "name": "stderr",
     "output_type": "stream",
     "text": [
      "100%|██████████| 23/23 [00:33<00:00,  1.46s/it]\n"
     ]
    },
    {
     "name": "stdout",
     "output_type": "stream",
     "text": [
      "[ Train | 030/2000 ] train_loss = 0.35578, train_iou = 0.83716\n"
     ]
    },
    {
     "name": "stderr",
     "output_type": "stream",
     "text": [
      "100%|██████████| 5/5 [00:05<00:00,  1.18s/it]\n"
     ]
    },
    {
     "name": "stdout",
     "output_type": "stream",
     "text": [
      "[ Valid | 030/2000 ] test_loss  = 0.32134, test_loss = 0.32134\n",
      "[ Valid | 031/2000 ] test_loss = 0.32134, test_iou = 0.90689\n",
      "Train Loss : 0.35577570225881494, Test Loss : 0.32133578062057494 , Test IOU : 0.9068852432924247 , best Test mIOU : 0.925443717377507\n",
      "Epoch : 31/2000 , learning rate : 0.001\n"
     ]
    },
    {
     "name": "stderr",
     "output_type": "stream",
     "text": [
      "100%|██████████| 23/23 [00:33<00:00,  1.47s/it]\n"
     ]
    },
    {
     "name": "stdout",
     "output_type": "stream",
     "text": [
      "[ Train | 031/2000 ] train_loss = 0.36300, train_iou = 0.84782\n"
     ]
    },
    {
     "name": "stderr",
     "output_type": "stream",
     "text": [
      "100%|██████████| 5/5 [00:05<00:00,  1.14s/it]\n"
     ]
    },
    {
     "name": "stdout",
     "output_type": "stream",
     "text": [
      "[ Valid | 031/2000 ] test_loss  = 0.29766, test_loss = 0.29766\n",
      "[ Valid | 032/2000 ] test_loss = 0.29766, test_iou = 0.91038\n",
      "Train Loss : 0.3630039782627769, Test Loss : 0.2976559579372406 , Test IOU : 0.9103823811259808 , best Test mIOU : 0.925443717377507\n",
      "Epoch : 32/2000 , learning rate : 0.001\n"
     ]
    },
    {
     "name": "stderr",
     "output_type": "stream",
     "text": [
      "100%|██████████| 23/23 [00:33<00:00,  1.46s/it]\n"
     ]
    },
    {
     "name": "stdout",
     "output_type": "stream",
     "text": [
      "[ Train | 032/2000 ] train_loss = 0.34353, train_iou = 0.86899\n"
     ]
    },
    {
     "name": "stderr",
     "output_type": "stream",
     "text": [
      "100%|██████████| 5/5 [00:06<00:00,  1.24s/it]\n"
     ]
    },
    {
     "name": "stdout",
     "output_type": "stream",
     "text": [
      "[ Valid | 032/2000 ] test_loss  = 0.26972, test_loss = 0.26972\n",
      "[ Valid | 033/2000 ] test_loss = 0.26972, test_iou = 0.91464\n",
      "Train Loss : 0.34353218389594037, Test Loss : 0.26971980929374695 , Test IOU : 0.9146379614397121 , best Test mIOU : 0.925443717377507\n",
      "Epoch : 33/2000 , learning rate : 0.001\n"
     ]
    },
    {
     "name": "stderr",
     "output_type": "stream",
     "text": [
      "100%|██████████| 23/23 [00:34<00:00,  1.48s/it]\n"
     ]
    },
    {
     "name": "stdout",
     "output_type": "stream",
     "text": [
      "[ Train | 033/2000 ] train_loss = 0.33737, train_iou = 0.89634\n"
     ]
    },
    {
     "name": "stderr",
     "output_type": "stream",
     "text": [
      "100%|██████████| 5/5 [00:06<00:00,  1.24s/it]\n"
     ]
    },
    {
     "name": "stdout",
     "output_type": "stream",
     "text": [
      "[ Valid | 033/2000 ] test_loss  = 0.28151, test_loss = 0.28151\n",
      "[ Valid | 034/2000 ] test_loss = 0.28151, test_iou = 0.91704\n",
      "Train Loss : 0.3373655676841736, Test Loss : 0.2815141975879669 , Test IOU : 0.9170397347161441 , best Test mIOU : 0.925443717377507\n",
      "Epoch : 34/2000 , learning rate : 0.001\n"
     ]
    },
    {
     "name": "stderr",
     "output_type": "stream",
     "text": [
      "100%|██████████| 23/23 [00:33<00:00,  1.47s/it]\n"
     ]
    },
    {
     "name": "stdout",
     "output_type": "stream",
     "text": [
      "[ Train | 034/2000 ] train_loss = 0.33611, train_iou = 0.89388\n"
     ]
    },
    {
     "name": "stderr",
     "output_type": "stream",
     "text": [
      "100%|██████████| 5/5 [00:06<00:00,  1.28s/it]\n"
     ]
    },
    {
     "name": "stdout",
     "output_type": "stream",
     "text": [
      "[ Valid | 034/2000 ] test_loss  = 0.26247, test_loss = 0.26247\n",
      "[ Valid | 035/2000 ] test_loss = 0.26247, test_iou = 0.92682 -> best\n",
      "Best model found at epoch 34, saving model\n",
      "Train Loss : 0.3361084668532662, Test Loss : 0.2624654293060303 , Test IOU : 0.9268225264211584 , best Test mIOU : 0.9268225264211584\n",
      "Epoch : 35/2000 , learning rate : 0.001\n"
     ]
    },
    {
     "name": "stderr",
     "output_type": "stream",
     "text": [
      "100%|██████████| 23/23 [00:33<00:00,  1.47s/it]\n"
     ]
    },
    {
     "name": "stdout",
     "output_type": "stream",
     "text": [
      "[ Train | 035/2000 ] train_loss = 0.31337, train_iou = 0.86728\n"
     ]
    },
    {
     "name": "stderr",
     "output_type": "stream",
     "text": [
      "100%|██████████| 5/5 [00:06<00:00,  1.26s/it]\n"
     ]
    },
    {
     "name": "stdout",
     "output_type": "stream",
     "text": [
      "[ Valid | 035/2000 ] test_loss  = 0.27122, test_loss = 0.27122\n",
      "[ Valid | 036/2000 ] test_loss = 0.27122, test_iou = 0.89711\n",
      "Train Loss : 0.31337480959684955, Test Loss : 0.27122136354446413 , Test IOU : 0.8971087242666126 , best Test mIOU : 0.9268225264211584\n",
      "Epoch : 36/2000 , learning rate : 0.001\n"
     ]
    },
    {
     "name": "stderr",
     "output_type": "stream",
     "text": [
      "100%|██████████| 23/23 [00:34<00:00,  1.51s/it]\n"
     ]
    },
    {
     "name": "stdout",
     "output_type": "stream",
     "text": [
      "[ Train | 036/2000 ] train_loss = 0.32147, train_iou = 0.86718\n"
     ]
    },
    {
     "name": "stderr",
     "output_type": "stream",
     "text": [
      "100%|██████████| 5/5 [00:06<00:00,  1.28s/it]\n"
     ]
    },
    {
     "name": "stdout",
     "output_type": "stream",
     "text": [
      "[ Valid | 036/2000 ] test_loss  = 0.25181, test_loss = 0.25181\n",
      "[ Valid | 037/2000 ] test_loss = 0.25181, test_iou = 0.93431 -> best\n",
      "Best model found at epoch 36, saving model\n",
      "Train Loss : 0.3214676742968352, Test Loss : 0.2518096655607224 , Test IOU : 0.9343104643572266 , best Test mIOU : 0.9343104643572266\n",
      "Epoch : 37/2000 , learning rate : 0.001\n"
     ]
    },
    {
     "name": "stderr",
     "output_type": "stream",
     "text": [
      "100%|██████████| 23/23 [00:34<00:00,  1.50s/it]\n"
     ]
    },
    {
     "name": "stdout",
     "output_type": "stream",
     "text": [
      "[ Train | 037/2000 ] train_loss = 0.31244, train_iou = 0.88902\n"
     ]
    },
    {
     "name": "stderr",
     "output_type": "stream",
     "text": [
      "100%|██████████| 5/5 [00:06<00:00,  1.29s/it]\n"
     ]
    },
    {
     "name": "stdout",
     "output_type": "stream",
     "text": [
      "[ Valid | 037/2000 ] test_loss  = 0.25274, test_loss = 0.25274\n",
      "[ Valid | 038/2000 ] test_loss = 0.25274, test_iou = 0.92158\n",
      "Train Loss : 0.31243612455285114, Test Loss : 0.2527431696653366 , Test IOU : 0.921580445592552 , best Test mIOU : 0.9343104643572266\n",
      "Epoch : 38/2000 , learning rate : 0.001\n"
     ]
    },
    {
     "name": "stderr",
     "output_type": "stream",
     "text": [
      "100%|██████████| 23/23 [00:34<00:00,  1.51s/it]\n"
     ]
    },
    {
     "name": "stdout",
     "output_type": "stream",
     "text": [
      "[ Train | 038/2000 ] train_loss = 0.31434, train_iou = 0.86528\n"
     ]
    },
    {
     "name": "stderr",
     "output_type": "stream",
     "text": [
      "100%|██████████| 5/5 [00:06<00:00,  1.22s/it]\n"
     ]
    },
    {
     "name": "stdout",
     "output_type": "stream",
     "text": [
      "[ Valid | 038/2000 ] test_loss  = 0.25679, test_loss = 0.25679\n",
      "[ Valid | 039/2000 ] test_loss = 0.25679, test_iou = 0.93285\n",
      "Train Loss : 0.31433912204659503, Test Loss : 0.25678694546222686 , Test IOU : 0.9328511192170463 , best Test mIOU : 0.9343104643572266\n",
      "Epoch : 39/2000 , learning rate : 0.001\n"
     ]
    },
    {
     "name": "stderr",
     "output_type": "stream",
     "text": [
      "100%|██████████| 23/23 [00:34<00:00,  1.49s/it]\n"
     ]
    },
    {
     "name": "stdout",
     "output_type": "stream",
     "text": [
      "[ Train | 039/2000 ] train_loss = 0.31119, train_iou = 0.84911\n"
     ]
    },
    {
     "name": "stderr",
     "output_type": "stream",
     "text": [
      "100%|██████████| 5/5 [00:06<00:00,  1.27s/it]\n"
     ]
    },
    {
     "name": "stdout",
     "output_type": "stream",
     "text": [
      "[ Valid | 039/2000 ] test_loss  = 0.26640, test_loss = 0.26640\n",
      "[ Valid | 040/2000 ] test_loss = 0.26640, test_iou = 0.90155\n",
      "Train Loss : 0.31118703471577686, Test Loss : 0.266402405500412 , Test IOU : 0.9015508733058134 , best Test mIOU : 0.9343104643572266\n",
      "Epoch : 40/2000 , learning rate : 0.001\n"
     ]
    },
    {
     "name": "stderr",
     "output_type": "stream",
     "text": [
      "100%|██████████| 23/23 [00:34<00:00,  1.51s/it]\n"
     ]
    },
    {
     "name": "stdout",
     "output_type": "stream",
     "text": [
      "[ Train | 040/2000 ] train_loss = 0.30653, train_iou = 0.86355\n"
     ]
    },
    {
     "name": "stderr",
     "output_type": "stream",
     "text": [
      "100%|██████████| 5/5 [00:06<00:00,  1.30s/it]\n"
     ]
    },
    {
     "name": "stdout",
     "output_type": "stream",
     "text": [
      "[ Valid | 040/2000 ] test_loss  = 0.24007, test_loss = 0.24007\n",
      "[ Valid | 041/2000 ] test_loss = 0.24007, test_iou = 0.93060\n",
      "Train Loss : 0.30653347528499103, Test Loss : 0.24007412493228913 , Test IOU : 0.9306030746667634 , best Test mIOU : 0.9343104643572266\n",
      "Epoch : 41/2000 , learning rate : 0.001\n"
     ]
    },
    {
     "name": "stderr",
     "output_type": "stream",
     "text": [
      "100%|██████████| 23/23 [00:34<00:00,  1.48s/it]\n"
     ]
    },
    {
     "name": "stdout",
     "output_type": "stream",
     "text": [
      "[ Train | 041/2000 ] train_loss = 0.30761, train_iou = 0.87146\n"
     ]
    },
    {
     "name": "stderr",
     "output_type": "stream",
     "text": [
      "100%|██████████| 5/5 [00:06<00:00,  1.31s/it]\n"
     ]
    },
    {
     "name": "stdout",
     "output_type": "stream",
     "text": [
      "[ Valid | 041/2000 ] test_loss  = 0.25575, test_loss = 0.25575\n",
      "[ Valid | 042/2000 ] test_loss = 0.25575, test_iou = 0.92850\n",
      "Train Loss : 0.30760559957960376, Test Loss : 0.25574585497379304 , Test IOU : 0.9284994623162411 , best Test mIOU : 0.9343104643572266\n",
      "Epoch : 42/2000 , learning rate : 0.001\n"
     ]
    },
    {
     "name": "stderr",
     "output_type": "stream",
     "text": [
      "100%|██████████| 23/23 [00:34<00:00,  1.50s/it]\n"
     ]
    },
    {
     "name": "stdout",
     "output_type": "stream",
     "text": [
      "[ Train | 042/2000 ] train_loss = 0.31146, train_iou = 0.89569\n"
     ]
    },
    {
     "name": "stderr",
     "output_type": "stream",
     "text": [
      "100%|██████████| 5/5 [00:06<00:00,  1.27s/it]\n"
     ]
    },
    {
     "name": "stdout",
     "output_type": "stream",
     "text": [
      "[ Valid | 042/2000 ] test_loss  = 0.25636, test_loss = 0.25636\n",
      "[ Valid | 043/2000 ] test_loss = 0.25636, test_iou = 0.92314\n",
      "Train Loss : 0.31145669260750647, Test Loss : 0.25635786652565 , Test IOU : 0.9231374127904035 , best Test mIOU : 0.9343104643572266\n",
      "Epoch : 43/2000 , learning rate : 0.001\n"
     ]
    },
    {
     "name": "stderr",
     "output_type": "stream",
     "text": [
      "100%|██████████| 23/23 [00:33<00:00,  1.47s/it]\n"
     ]
    },
    {
     "name": "stdout",
     "output_type": "stream",
     "text": [
      "[ Train | 043/2000 ] train_loss = 0.29713, train_iou = 0.86142\n"
     ]
    },
    {
     "name": "stderr",
     "output_type": "stream",
     "text": [
      "100%|██████████| 5/5 [00:06<00:00,  1.23s/it]\n"
     ]
    },
    {
     "name": "stdout",
     "output_type": "stream",
     "text": [
      "[ Valid | 043/2000 ] test_loss  = 0.23578, test_loss = 0.23578\n",
      "[ Valid | 044/2000 ] test_loss = 0.23578, test_iou = 0.92757\n",
      "Train Loss : 0.2971342724302541, Test Loss : 0.23577764332294465 , Test IOU : 0.9275712898940547 , best Test mIOU : 0.9343104643572266\n",
      "Epoch : 44/2000 , learning rate : 0.001\n"
     ]
    },
    {
     "name": "stderr",
     "output_type": "stream",
     "text": [
      "100%|██████████| 23/23 [00:34<00:00,  1.48s/it]\n"
     ]
    },
    {
     "name": "stdout",
     "output_type": "stream",
     "text": [
      "[ Train | 044/2000 ] train_loss = 0.28121, train_iou = 0.89631\n"
     ]
    },
    {
     "name": "stderr",
     "output_type": "stream",
     "text": [
      "100%|██████████| 5/5 [00:05<00:00,  1.15s/it]\n"
     ]
    },
    {
     "name": "stdout",
     "output_type": "stream",
     "text": [
      "[ Valid | 044/2000 ] test_loss  = 0.22880, test_loss = 0.22880\n",
      "[ Valid | 045/2000 ] test_loss = 0.22880, test_iou = 0.93327\n",
      "Train Loss : 0.28120668815529865, Test Loss : 0.22880470752716064 , Test IOU : 0.9332728682709697 , best Test mIOU : 0.9343104643572266\n",
      "Epoch : 45/2000 , learning rate : 0.001\n"
     ]
    },
    {
     "name": "stderr",
     "output_type": "stream",
     "text": [
      "100%|██████████| 23/23 [00:33<00:00,  1.48s/it]\n"
     ]
    },
    {
     "name": "stdout",
     "output_type": "stream",
     "text": [
      "[ Train | 045/2000 ] train_loss = 0.28429, train_iou = 0.88908\n"
     ]
    },
    {
     "name": "stderr",
     "output_type": "stream",
     "text": [
      "100%|██████████| 5/5 [00:06<00:00,  1.27s/it]\n"
     ]
    },
    {
     "name": "stdout",
     "output_type": "stream",
     "text": [
      "[ Valid | 045/2000 ] test_loss  = 0.21946, test_loss = 0.21946\n",
      "[ Valid | 046/2000 ] test_loss = 0.21946, test_iou = 0.94679 -> best\n",
      "Best model found at epoch 45, saving model\n",
      "Train Loss : 0.2842905275199724, Test Loss : 0.21946154534816742 , Test IOU : 0.9467851773907132 , best Test mIOU : 0.9467851773907132\n",
      "Epoch : 46/2000 , learning rate : 0.001\n"
     ]
    },
    {
     "name": "stderr",
     "output_type": "stream",
     "text": [
      "100%|██████████| 23/23 [00:33<00:00,  1.47s/it]\n"
     ]
    },
    {
     "name": "stdout",
     "output_type": "stream",
     "text": [
      "[ Train | 046/2000 ] train_loss = 0.28157, train_iou = 0.91592\n"
     ]
    },
    {
     "name": "stderr",
     "output_type": "stream",
     "text": [
      "100%|██████████| 5/5 [00:06<00:00,  1.26s/it]\n"
     ]
    },
    {
     "name": "stdout",
     "output_type": "stream",
     "text": [
      "[ Valid | 046/2000 ] test_loss  = 0.22954, test_loss = 0.22954\n",
      "[ Valid | 047/2000 ] test_loss = 0.22954, test_iou = 0.93151\n",
      "Train Loss : 0.2815697750319605, Test Loss : 0.22953875362873077 , Test IOU : 0.9315130107980416 , best Test mIOU : 0.9467851773907132\n",
      "Epoch : 47/2000 , learning rate : 0.001\n"
     ]
    },
    {
     "name": "stderr",
     "output_type": "stream",
     "text": [
      "100%|██████████| 23/23 [00:33<00:00,  1.47s/it]\n"
     ]
    },
    {
     "name": "stdout",
     "output_type": "stream",
     "text": [
      "[ Train | 047/2000 ] train_loss = 0.28145, train_iou = 0.89131\n"
     ]
    },
    {
     "name": "stderr",
     "output_type": "stream",
     "text": [
      "100%|██████████| 5/5 [00:06<00:00,  1.29s/it]\n"
     ]
    },
    {
     "name": "stdout",
     "output_type": "stream",
     "text": [
      "[ Valid | 047/2000 ] test_loss  = 0.22878, test_loss = 0.22878\n",
      "[ Valid | 048/2000 ] test_loss = 0.22878, test_iou = 0.92474\n",
      "Train Loss : 0.2814485890709836, Test Loss : 0.22877930700778962 , Test IOU : 0.9247407331097512 , best Test mIOU : 0.9467851773907132\n",
      "Epoch : 48/2000 , learning rate : 0.001\n"
     ]
    },
    {
     "name": "stderr",
     "output_type": "stream",
     "text": [
      "100%|██████████| 23/23 [00:33<00:00,  1.48s/it]\n"
     ]
    },
    {
     "name": "stdout",
     "output_type": "stream",
     "text": [
      "[ Train | 048/2000 ] train_loss = 0.25890, train_iou = 0.89827\n"
     ]
    },
    {
     "name": "stderr",
     "output_type": "stream",
     "text": [
      "100%|██████████| 5/5 [00:06<00:00,  1.31s/it]\n"
     ]
    },
    {
     "name": "stdout",
     "output_type": "stream",
     "text": [
      "[ Valid | 048/2000 ] test_loss  = 0.22324, test_loss = 0.22324\n",
      "[ Valid | 049/2000 ] test_loss = 0.22324, test_iou = 0.93240\n",
      "Train Loss : 0.2588957885037298, Test Loss : 0.22323580384254454 , Test IOU : 0.9323959341319641 , best Test mIOU : 0.9467851773907132\n",
      "Epoch : 49/2000 , learning rate : 0.001\n"
     ]
    },
    {
     "name": "stderr",
     "output_type": "stream",
     "text": [
      "100%|██████████| 23/23 [00:33<00:00,  1.47s/it]\n"
     ]
    },
    {
     "name": "stdout",
     "output_type": "stream",
     "text": [
      "[ Train | 049/2000 ] train_loss = 0.26988, train_iou = 0.84300\n"
     ]
    },
    {
     "name": "stderr",
     "output_type": "stream",
     "text": [
      "100%|██████████| 5/5 [00:06<00:00,  1.26s/it]\n"
     ]
    },
    {
     "name": "stdout",
     "output_type": "stream",
     "text": [
      "[ Valid | 049/2000 ] test_loss  = 0.24537, test_loss = 0.24537\n",
      "[ Valid | 050/2000 ] test_loss = 0.24537, test_iou = 0.91623\n",
      "Train Loss : 0.2698769653620927, Test Loss : 0.24537392556667328 , Test IOU : 0.916234012436877 , best Test mIOU : 0.9467851773907132\n",
      "Epoch : 50/2000 , learning rate : 0.001\n"
     ]
    },
    {
     "name": "stderr",
     "output_type": "stream",
     "text": [
      "100%|██████████| 23/23 [00:34<00:00,  1.48s/it]\n"
     ]
    },
    {
     "name": "stdout",
     "output_type": "stream",
     "text": [
      "[ Train | 050/2000 ] train_loss = 0.26731, train_iou = 0.90595\n"
     ]
    },
    {
     "name": "stderr",
     "output_type": "stream",
     "text": [
      "100%|██████████| 5/5 [00:06<00:00,  1.26s/it]\n"
     ]
    },
    {
     "name": "stdout",
     "output_type": "stream",
     "text": [
      "[ Valid | 050/2000 ] test_loss  = 0.21055, test_loss = 0.21055\n",
      "[ Valid | 051/2000 ] test_loss = 0.21055, test_iou = 0.94134\n",
      "Train Loss : 0.26730684158594714, Test Loss : 0.2105547159910202 , Test IOU : 0.9413445018977942 , best Test mIOU : 0.9467851773907132\n",
      "Epoch : 51/2000 , learning rate : 0.001\n"
     ]
    },
    {
     "name": "stderr",
     "output_type": "stream",
     "text": [
      "100%|██████████| 23/23 [00:33<00:00,  1.46s/it]\n"
     ]
    },
    {
     "name": "stdout",
     "output_type": "stream",
     "text": [
      "[ Train | 051/2000 ] train_loss = 0.26764, train_iou = 0.91206\n"
     ]
    },
    {
     "name": "stderr",
     "output_type": "stream",
     "text": [
      "100%|██████████| 5/5 [00:06<00:00,  1.29s/it]\n"
     ]
    },
    {
     "name": "stdout",
     "output_type": "stream",
     "text": [
      "[ Valid | 051/2000 ] test_loss  = 0.21062, test_loss = 0.21062\n",
      "[ Valid | 052/2000 ] test_loss = 0.21062, test_iou = 0.94618\n",
      "Train Loss : 0.2676359609417293, Test Loss : 0.2106190264225006 , Test IOU : 0.9461805513604469 , best Test mIOU : 0.9467851773907132\n",
      "Epoch : 52/2000 , learning rate : 0.001\n"
     ]
    },
    {
     "name": "stderr",
     "output_type": "stream",
     "text": [
      "100%|██████████| 23/23 [00:33<00:00,  1.46s/it]\n"
     ]
    },
    {
     "name": "stdout",
     "output_type": "stream",
     "text": [
      "[ Train | 052/2000 ] train_loss = 0.25344, train_iou = 0.89953\n"
     ]
    },
    {
     "name": "stderr",
     "output_type": "stream",
     "text": [
      "100%|██████████| 5/5 [00:06<00:00,  1.27s/it]\n"
     ]
    },
    {
     "name": "stdout",
     "output_type": "stream",
     "text": [
      "[ Valid | 052/2000 ] test_loss  = 0.22812, test_loss = 0.22812\n",
      "[ Valid | 053/2000 ] test_loss = 0.22812, test_iou = 0.93424\n",
      "Train Loss : 0.2534427189308664, Test Loss : 0.22811979353427886 , Test IOU : 0.9342418602585673 , best Test mIOU : 0.9467851773907132\n",
      "Epoch : 53/2000 , learning rate : 0.001\n"
     ]
    },
    {
     "name": "stderr",
     "output_type": "stream",
     "text": [
      "100%|██████████| 23/23 [00:36<00:00,  1.57s/it]\n"
     ]
    },
    {
     "name": "stdout",
     "output_type": "stream",
     "text": [
      "[ Train | 053/2000 ] train_loss = 0.26852, train_iou = 0.91177\n"
     ]
    },
    {
     "name": "stderr",
     "output_type": "stream",
     "text": [
      "100%|██████████| 5/5 [00:06<00:00,  1.21s/it]\n"
     ]
    },
    {
     "name": "stdout",
     "output_type": "stream",
     "text": [
      "[ Valid | 053/2000 ] test_loss  = 0.22956, test_loss = 0.22956\n",
      "[ Valid | 054/2000 ] test_loss = 0.22956, test_iou = 0.93166\n",
      "Train Loss : 0.26852353953796887, Test Loss : 0.2295619159936905 , Test IOU : 0.9316553472263361 , best Test mIOU : 0.9467851773907132\n",
      "Epoch : 54/2000 , learning rate : 0.001\n"
     ]
    },
    {
     "name": "stderr",
     "output_type": "stream",
     "text": [
      "100%|██████████| 23/23 [00:33<00:00,  1.46s/it]\n"
     ]
    },
    {
     "name": "stdout",
     "output_type": "stream",
     "text": [
      "[ Train | 054/2000 ] train_loss = 0.26747, train_iou = 0.89201\n"
     ]
    },
    {
     "name": "stderr",
     "output_type": "stream",
     "text": [
      "100%|██████████| 5/5 [00:06<00:00,  1.33s/it]\n"
     ]
    },
    {
     "name": "stdout",
     "output_type": "stream",
     "text": [
      "[ Valid | 054/2000 ] test_loss  = 0.20780, test_loss = 0.20780\n",
      "[ Valid | 055/2000 ] test_loss = 0.20780, test_iou = 0.94515\n",
      "Train Loss : 0.2674664803173231, Test Loss : 0.20780009627342225 , Test IOU : 0.9451489558633324 , best Test mIOU : 0.9467851773907132\n",
      "Epoch : 55/2000 , learning rate : 0.001\n"
     ]
    },
    {
     "name": "stderr",
     "output_type": "stream",
     "text": [
      "100%|██████████| 23/23 [00:34<00:00,  1.50s/it]\n"
     ]
    },
    {
     "name": "stdout",
     "output_type": "stream",
     "text": [
      "[ Train | 055/2000 ] train_loss = 0.25404, train_iou = 0.87676\n"
     ]
    },
    {
     "name": "stderr",
     "output_type": "stream",
     "text": [
      "100%|██████████| 5/5 [00:06<00:00,  1.28s/it]\n"
     ]
    },
    {
     "name": "stdout",
     "output_type": "stream",
     "text": [
      "[ Valid | 055/2000 ] test_loss  = 0.20404, test_loss = 0.20404\n",
      "[ Valid | 056/2000 ] test_loss = 0.20404, test_iou = 0.94214\n",
      "Train Loss : 0.2540394508320352, Test Loss : 0.2040383756160736 , Test IOU : 0.9421412179198813 , best Test mIOU : 0.9467851773907132\n",
      "Epoch : 56/2000 , learning rate : 0.001\n"
     ]
    },
    {
     "name": "stderr",
     "output_type": "stream",
     "text": [
      "100%|██████████| 23/23 [00:33<00:00,  1.45s/it]\n"
     ]
    },
    {
     "name": "stdout",
     "output_type": "stream",
     "text": [
      "[ Train | 056/2000 ] train_loss = 0.26423, train_iou = 0.91316\n"
     ]
    },
    {
     "name": "stderr",
     "output_type": "stream",
     "text": [
      "100%|██████████| 5/5 [00:06<00:00,  1.27s/it]\n"
     ]
    },
    {
     "name": "stdout",
     "output_type": "stream",
     "text": [
      "[ Valid | 056/2000 ] test_loss  = 0.21427, test_loss = 0.21427\n",
      "[ Valid | 057/2000 ] test_loss = 0.21427, test_iou = 0.93192\n",
      "Train Loss : 0.26422523674757586, Test Loss : 0.21426508128643035 , Test IOU : 0.9319242455483634 , best Test mIOU : 0.9467851773907132\n",
      "Epoch : 57/2000 , learning rate : 0.001\n"
     ]
    },
    {
     "name": "stderr",
     "output_type": "stream",
     "text": [
      "100%|██████████| 23/23 [00:33<00:00,  1.46s/it]\n"
     ]
    },
    {
     "name": "stdout",
     "output_type": "stream",
     "text": [
      "[ Train | 057/2000 ] train_loss = 0.25920, train_iou = 0.89995\n"
     ]
    },
    {
     "name": "stderr",
     "output_type": "stream",
     "text": [
      "100%|██████████| 5/5 [00:06<00:00,  1.28s/it]\n"
     ]
    },
    {
     "name": "stdout",
     "output_type": "stream",
     "text": [
      "[ Valid | 057/2000 ] test_loss  = 0.22238, test_loss = 0.22238\n",
      "[ Valid | 058/2000 ] test_loss = 0.22238, test_iou = 0.90987\n",
      "Train Loss : 0.25919542688390484, Test Loss : 0.22238093316555024 , Test IOU : 0.9098680050283775 , best Test mIOU : 0.9467851773907132\n",
      "Epoch : 58/2000 , learning rate : 0.001\n"
     ]
    },
    {
     "name": "stderr",
     "output_type": "stream",
     "text": [
      "100%|██████████| 23/23 [00:33<00:00,  1.46s/it]\n"
     ]
    },
    {
     "name": "stdout",
     "output_type": "stream",
     "text": [
      "[ Train | 058/2000 ] train_loss = 0.24691, train_iou = 0.91020\n"
     ]
    },
    {
     "name": "stderr",
     "output_type": "stream",
     "text": [
      "100%|██████████| 5/5 [00:06<00:00,  1.29s/it]\n"
     ]
    },
    {
     "name": "stdout",
     "output_type": "stream",
     "text": [
      "[ Valid | 058/2000 ] test_loss  = 0.20340, test_loss = 0.20340\n",
      "[ Valid | 059/2000 ] test_loss = 0.20340, test_iou = 0.95046 -> best\n",
      "Best model found at epoch 58, saving model\n",
      "Train Loss : 0.24691406345885733, Test Loss : 0.2034035563468933 , Test IOU : 0.9504600138538338 , best Test mIOU : 0.9504600138538338\n",
      "Epoch : 59/2000 , learning rate : 0.001\n"
     ]
    },
    {
     "name": "stderr",
     "output_type": "stream",
     "text": [
      "100%|██████████| 23/23 [00:35<00:00,  1.52s/it]\n"
     ]
    },
    {
     "name": "stdout",
     "output_type": "stream",
     "text": [
      "[ Train | 059/2000 ] train_loss = 0.25299, train_iou = 0.90491\n"
     ]
    },
    {
     "name": "stderr",
     "output_type": "stream",
     "text": [
      "100%|██████████| 5/5 [00:06<00:00,  1.25s/it]\n"
     ]
    },
    {
     "name": "stdout",
     "output_type": "stream",
     "text": [
      "[ Valid | 059/2000 ] test_loss  = 0.19788, test_loss = 0.19788\n",
      "[ Valid | 060/2000 ] test_loss = 0.19788, test_iou = 0.94641\n",
      "Train Loss : 0.25298684252345044, Test Loss : 0.1978825330734253 , Test IOU : 0.9464102623902658 , best Test mIOU : 0.9504600138538338\n",
      "Epoch : 60/2000 , learning rate : 0.001\n"
     ]
    },
    {
     "name": "stderr",
     "output_type": "stream",
     "text": [
      "100%|██████████| 23/23 [00:34<00:00,  1.50s/it]\n"
     ]
    },
    {
     "name": "stdout",
     "output_type": "stream",
     "text": [
      "[ Train | 060/2000 ] train_loss = 0.24174, train_iou = 0.89382\n"
     ]
    },
    {
     "name": "stderr",
     "output_type": "stream",
     "text": [
      "100%|██████████| 5/5 [00:06<00:00,  1.24s/it]\n"
     ]
    },
    {
     "name": "stdout",
     "output_type": "stream",
     "text": [
      "[ Valid | 060/2000 ] test_loss  = 0.23491, test_loss = 0.23491\n",
      "[ Valid | 061/2000 ] test_loss = 0.23491, test_iou = 0.92692\n",
      "Train Loss : 0.2417407372723455, Test Loss : 0.2349115341901779 , Test IOU : 0.9269156524817646 , best Test mIOU : 0.9504600138538338\n",
      "Epoch : 61/2000 , learning rate : 0.001\n"
     ]
    },
    {
     "name": "stderr",
     "output_type": "stream",
     "text": [
      "100%|██████████| 23/23 [00:33<00:00,  1.47s/it]\n"
     ]
    },
    {
     "name": "stdout",
     "output_type": "stream",
     "text": [
      "[ Train | 061/2000 ] train_loss = 0.24936, train_iou = 0.90208\n"
     ]
    },
    {
     "name": "stderr",
     "output_type": "stream",
     "text": [
      "100%|██████████| 5/5 [00:06<00:00,  1.29s/it]\n"
     ]
    },
    {
     "name": "stdout",
     "output_type": "stream",
     "text": [
      "[ Valid | 061/2000 ] test_loss  = 0.19995, test_loss = 0.19995\n",
      "[ Valid | 062/2000 ] test_loss = 0.19995, test_iou = 0.94231\n",
      "Train Loss : 0.24935627955457437, Test Loss : 0.19995046257972718 , Test IOU : 0.9423102253495156 , best Test mIOU : 0.9504600138538338\n",
      "Epoch : 62/2000 , learning rate : 0.001\n"
     ]
    },
    {
     "name": "stderr",
     "output_type": "stream",
     "text": [
      "100%|██████████| 23/23 [00:34<00:00,  1.48s/it]\n"
     ]
    },
    {
     "name": "stdout",
     "output_type": "stream",
     "text": [
      "[ Train | 062/2000 ] train_loss = 0.25096, train_iou = 0.86811\n"
     ]
    },
    {
     "name": "stderr",
     "output_type": "stream",
     "text": [
      "100%|██████████| 5/5 [00:06<00:00,  1.29s/it]\n"
     ]
    },
    {
     "name": "stdout",
     "output_type": "stream",
     "text": [
      "[ Valid | 062/2000 ] test_loss  = 0.19900, test_loss = 0.19900\n",
      "[ Valid | 063/2000 ] test_loss = 0.19900, test_iou = 0.94547\n",
      "Train Loss : 0.2509580934825151, Test Loss : 0.19899938702583314 , Test IOU : 0.945466793024574 , best Test mIOU : 0.9504600138538338\n",
      "Epoch : 63/2000 , learning rate : 0.001\n"
     ]
    },
    {
     "name": "stderr",
     "output_type": "stream",
     "text": [
      "100%|██████████| 23/23 [00:34<00:00,  1.49s/it]\n"
     ]
    },
    {
     "name": "stdout",
     "output_type": "stream",
     "text": [
      "[ Train | 063/2000 ] train_loss = 0.24240, train_iou = 0.90428\n"
     ]
    },
    {
     "name": "stderr",
     "output_type": "stream",
     "text": [
      "100%|██████████| 5/5 [00:06<00:00,  1.31s/it]\n"
     ]
    },
    {
     "name": "stdout",
     "output_type": "stream",
     "text": [
      "[ Valid | 063/2000 ] test_loss  = 0.19796, test_loss = 0.19796\n",
      "[ Valid | 064/2000 ] test_loss = 0.19796, test_iou = 0.94894\n",
      "Train Loss : 0.24240139321140622, Test Loss : 0.19795973002910613 , Test IOU : 0.948939313119938 , best Test mIOU : 0.9504600138538338\n",
      "Epoch : 64/2000 , learning rate : 0.001\n"
     ]
    },
    {
     "name": "stderr",
     "output_type": "stream",
     "text": [
      "100%|██████████| 23/23 [00:34<00:00,  1.49s/it]\n"
     ]
    },
    {
     "name": "stdout",
     "output_type": "stream",
     "text": [
      "[ Train | 064/2000 ] train_loss = 0.23955, train_iou = 0.91146\n"
     ]
    },
    {
     "name": "stderr",
     "output_type": "stream",
     "text": [
      "100%|██████████| 5/5 [00:06<00:00,  1.30s/it]\n"
     ]
    },
    {
     "name": "stdout",
     "output_type": "stream",
     "text": [
      "[ Valid | 064/2000 ] test_loss  = 0.19866, test_loss = 0.19866\n",
      "[ Valid | 065/2000 ] test_loss = 0.19866, test_iou = 0.94197\n",
      "Train Loss : 0.23955063392286716, Test Loss : 0.19865624606609344 , Test IOU : 0.9419702059341196 , best Test mIOU : 0.9504600138538338\n",
      "Epoch : 65/2000 , learning rate : 0.001\n"
     ]
    },
    {
     "name": "stderr",
     "output_type": "stream",
     "text": [
      "100%|██████████| 23/23 [00:34<00:00,  1.49s/it]\n"
     ]
    },
    {
     "name": "stdout",
     "output_type": "stream",
     "text": [
      "[ Train | 065/2000 ] train_loss = 0.23064, train_iou = 0.89827\n"
     ]
    },
    {
     "name": "stderr",
     "output_type": "stream",
     "text": [
      "100%|██████████| 5/5 [00:06<00:00,  1.28s/it]\n"
     ]
    },
    {
     "name": "stdout",
     "output_type": "stream",
     "text": [
      "[ Valid | 065/2000 ] test_loss  = 0.19670, test_loss = 0.19670\n",
      "[ Valid | 066/2000 ] test_loss = 0.19670, test_iou = 0.94431\n",
      "Train Loss : 0.23064317068328027, Test Loss : 0.1967006117105484 , Test IOU : 0.9443098776021792 , best Test mIOU : 0.9504600138538338\n",
      "Epoch : 66/2000 , learning rate : 0.001\n"
     ]
    },
    {
     "name": "stderr",
     "output_type": "stream",
     "text": [
      "100%|██████████| 23/23 [00:33<00:00,  1.47s/it]\n"
     ]
    },
    {
     "name": "stdout",
     "output_type": "stream",
     "text": [
      "[ Train | 066/2000 ] train_loss = 0.23470, train_iou = 0.92694\n"
     ]
    },
    {
     "name": "stderr",
     "output_type": "stream",
     "text": [
      "100%|██████████| 5/5 [00:06<00:00,  1.25s/it]\n"
     ]
    },
    {
     "name": "stdout",
     "output_type": "stream",
     "text": [
      "[ Valid | 066/2000 ] test_loss  = 0.19017, test_loss = 0.19017\n",
      "[ Valid | 067/2000 ] test_loss = 0.19017, test_iou = 0.94919\n",
      "Train Loss : 0.23469883657020071, Test Loss : 0.19016797840595245 , Test IOU : 0.9491932438171459 , best Test mIOU : 0.9504600138538338\n",
      "Epoch : 67/2000 , learning rate : 0.001\n"
     ]
    },
    {
     "name": "stderr",
     "output_type": "stream",
     "text": [
      "100%|██████████| 23/23 [00:33<00:00,  1.47s/it]\n"
     ]
    },
    {
     "name": "stdout",
     "output_type": "stream",
     "text": [
      "[ Train | 067/2000 ] train_loss = 0.24280, train_iou = 0.90656\n"
     ]
    },
    {
     "name": "stderr",
     "output_type": "stream",
     "text": [
      "100%|██████████| 5/5 [00:05<00:00,  1.12s/it]\n"
     ]
    },
    {
     "name": "stdout",
     "output_type": "stream",
     "text": [
      "[ Valid | 067/2000 ] test_loss  = 0.19626, test_loss = 0.19626\n",
      "[ Valid | 068/2000 ] test_loss = 0.19626, test_iou = 0.94410\n",
      "Train Loss : 0.24280240872631903, Test Loss : 0.1962643951177597 , Test IOU : 0.9441044198387392 , best Test mIOU : 0.9504600138538338\n",
      "Epoch : 68/2000 , learning rate : 0.001\n"
     ]
    },
    {
     "name": "stderr",
     "output_type": "stream",
     "text": [
      "100%|██████████| 23/23 [00:34<00:00,  1.48s/it]\n"
     ]
    },
    {
     "name": "stdout",
     "output_type": "stream",
     "text": [
      "[ Train | 068/2000 ] train_loss = 0.23341, train_iou = 0.88001\n"
     ]
    },
    {
     "name": "stderr",
     "output_type": "stream",
     "text": [
      "100%|██████████| 5/5 [00:05<00:00,  1.12s/it]\n"
     ]
    },
    {
     "name": "stdout",
     "output_type": "stream",
     "text": [
      "[ Valid | 068/2000 ] test_loss  = 0.18527, test_loss = 0.18527\n",
      "[ Valid | 069/2000 ] test_loss = 0.18527, test_iou = 0.94467\n",
      "Train Loss : 0.2334073172963184, Test Loss : 0.18526853621006012 , Test IOU : 0.9446734312817577 , best Test mIOU : 0.9504600138538338\n",
      "Epoch : 69/2000 , learning rate : 0.001\n"
     ]
    },
    {
     "name": "stderr",
     "output_type": "stream",
     "text": [
      "100%|██████████| 23/23 [00:33<00:00,  1.46s/it]\n"
     ]
    },
    {
     "name": "stdout",
     "output_type": "stream",
     "text": [
      "[ Train | 069/2000 ] train_loss = 0.22696, train_iou = 0.89740\n"
     ]
    },
    {
     "name": "stderr",
     "output_type": "stream",
     "text": [
      "100%|██████████| 5/5 [00:06<00:00,  1.27s/it]\n"
     ]
    },
    {
     "name": "stdout",
     "output_type": "stream",
     "text": [
      "[ Valid | 069/2000 ] test_loss  = 0.19687, test_loss = 0.19687\n",
      "[ Valid | 070/2000 ] test_loss = 0.19687, test_iou = 0.93505\n",
      "Train Loss : 0.22696158160334048, Test Loss : 0.19687379002571107 , Test IOU : 0.9350530297640951 , best Test mIOU : 0.9504600138538338\n",
      "Epoch : 70/2000 , learning rate : 0.001\n"
     ]
    },
    {
     "name": "stderr",
     "output_type": "stream",
     "text": [
      "100%|██████████| 23/23 [00:34<00:00,  1.50s/it]\n"
     ]
    },
    {
     "name": "stdout",
     "output_type": "stream",
     "text": [
      "[ Train | 070/2000 ] train_loss = 0.22634, train_iou = 0.91251\n"
     ]
    },
    {
     "name": "stderr",
     "output_type": "stream",
     "text": [
      "100%|██████████| 5/5 [00:06<00:00,  1.20s/it]\n"
     ]
    },
    {
     "name": "stdout",
     "output_type": "stream",
     "text": [
      "[ Valid | 070/2000 ] test_loss  = 0.21245, test_loss = 0.21245\n",
      "[ Valid | 071/2000 ] test_loss = 0.21245, test_iou = 0.94080\n",
      "Train Loss : 0.22633791099423947, Test Loss : 0.21244671940803528 , Test IOU : 0.9408037451837638 , best Test mIOU : 0.9504600138538338\n",
      "Epoch : 71/2000 , learning rate : 0.001\n"
     ]
    },
    {
     "name": "stderr",
     "output_type": "stream",
     "text": [
      "100%|██████████| 23/23 [00:34<00:00,  1.49s/it]\n"
     ]
    },
    {
     "name": "stdout",
     "output_type": "stream",
     "text": [
      "[ Train | 071/2000 ] train_loss = 0.23232, train_iou = 0.88068\n"
     ]
    },
    {
     "name": "stderr",
     "output_type": "stream",
     "text": [
      "100%|██████████| 5/5 [00:06<00:00,  1.26s/it]\n"
     ]
    },
    {
     "name": "stdout",
     "output_type": "stream",
     "text": [
      "[ Valid | 071/2000 ] test_loss  = 0.18155, test_loss = 0.18155\n",
      "[ Valid | 072/2000 ] test_loss = 0.18155, test_iou = 0.94009\n",
      "Train Loss : 0.2323219076446865, Test Loss : 0.18154582977294922 , Test IOU : 0.9400926236459208 , best Test mIOU : 0.9504600138538338\n",
      "Epoch : 72/2000 , learning rate : 0.001\n"
     ]
    },
    {
     "name": "stderr",
     "output_type": "stream",
     "text": [
      "100%|██████████| 23/23 [00:34<00:00,  1.51s/it]\n"
     ]
    },
    {
     "name": "stdout",
     "output_type": "stream",
     "text": [
      "[ Train | 072/2000 ] train_loss = 0.25245, train_iou = 0.89107\n"
     ]
    },
    {
     "name": "stderr",
     "output_type": "stream",
     "text": [
      "100%|██████████| 5/5 [00:06<00:00,  1.34s/it]\n"
     ]
    },
    {
     "name": "stdout",
     "output_type": "stream",
     "text": [
      "[ Valid | 072/2000 ] test_loss  = 0.19779, test_loss = 0.19779\n",
      "[ Valid | 073/2000 ] test_loss = 0.19779, test_iou = 0.94351\n",
      "Train Loss : 0.2524493498646695, Test Loss : 0.1977883905172348 , Test IOU : 0.9435068834450716 , best Test mIOU : 0.9504600138538338\n",
      "Epoch : 73/2000 , learning rate : 0.001\n"
     ]
    },
    {
     "name": "stderr",
     "output_type": "stream",
     "text": [
      "100%|██████████| 23/23 [00:34<00:00,  1.50s/it]\n"
     ]
    },
    {
     "name": "stdout",
     "output_type": "stream",
     "text": [
      "[ Train | 073/2000 ] train_loss = 0.22894, train_iou = 0.88182\n"
     ]
    },
    {
     "name": "stderr",
     "output_type": "stream",
     "text": [
      "100%|██████████| 5/5 [00:06<00:00,  1.31s/it]\n"
     ]
    },
    {
     "name": "stdout",
     "output_type": "stream",
     "text": [
      "[ Valid | 073/2000 ] test_loss  = 0.19538, test_loss = 0.19538\n",
      "[ Valid | 074/2000 ] test_loss = 0.19538, test_iou = 0.94440\n",
      "Train Loss : 0.22894161615682684, Test Loss : 0.19538247883319854 , Test IOU : 0.9444025483933862 , best Test mIOU : 0.9504600138538338\n",
      "Epoch : 74/2000 , learning rate : 0.001\n"
     ]
    },
    {
     "name": "stderr",
     "output_type": "stream",
     "text": [
      "100%|██████████| 23/23 [00:33<00:00,  1.47s/it]\n"
     ]
    },
    {
     "name": "stdout",
     "output_type": "stream",
     "text": [
      "[ Train | 074/2000 ] train_loss = 0.22840, train_iou = 0.88032\n"
     ]
    },
    {
     "name": "stderr",
     "output_type": "stream",
     "text": [
      "100%|██████████| 5/5 [00:05<00:00,  1.19s/it]\n"
     ]
    },
    {
     "name": "stdout",
     "output_type": "stream",
     "text": [
      "[ Valid | 074/2000 ] test_loss  = 0.18580, test_loss = 0.18580\n",
      "[ Valid | 075/2000 ] test_loss = 0.18580, test_iou = 0.95103 -> best\n",
      "Best model found at epoch 74, saving model\n",
      "Train Loss : 0.228396519370701, Test Loss : 0.18579574525356293 , Test IOU : 0.9510345171377381 , best Test mIOU : 0.9510345171377381\n",
      "Epoch : 75/2000 , learning rate : 0.001\n"
     ]
    },
    {
     "name": "stderr",
     "output_type": "stream",
     "text": [
      "100%|██████████| 23/23 [00:34<00:00,  1.50s/it]\n"
     ]
    },
    {
     "name": "stdout",
     "output_type": "stream",
     "text": [
      "[ Train | 075/2000 ] train_loss = 0.22921, train_iou = 0.88471\n"
     ]
    },
    {
     "name": "stderr",
     "output_type": "stream",
     "text": [
      "100%|██████████| 5/5 [00:06<00:00,  1.29s/it]\n"
     ]
    },
    {
     "name": "stdout",
     "output_type": "stream",
     "text": [
      "[ Valid | 075/2000 ] test_loss  = 0.18718, test_loss = 0.18718\n",
      "[ Valid | 076/2000 ] test_loss = 0.18718, test_iou = 0.93887\n",
      "Train Loss : 0.22920705248480258, Test Loss : 0.1871849000453949 , Test IOU : 0.938869992610081 , best Test mIOU : 0.9510345171377381\n",
      "Epoch : 76/2000 , learning rate : 0.001\n"
     ]
    },
    {
     "name": "stderr",
     "output_type": "stream",
     "text": [
      "100%|██████████| 23/23 [00:36<00:00,  1.57s/it]\n"
     ]
    },
    {
     "name": "stdout",
     "output_type": "stream",
     "text": [
      "[ Train | 076/2000 ] train_loss = 0.21923, train_iou = 0.89240\n"
     ]
    },
    {
     "name": "stderr",
     "output_type": "stream",
     "text": [
      "100%|██████████| 5/5 [00:06<00:00,  1.33s/it]\n"
     ]
    },
    {
     "name": "stdout",
     "output_type": "stream",
     "text": [
      "[ Valid | 076/2000 ] test_loss  = 0.18866, test_loss = 0.18866\n",
      "[ Valid | 077/2000 ] test_loss = 0.18866, test_iou = 0.94221\n",
      "Train Loss : 0.21922953750776208, Test Loss : 0.188659006357193 , Test IOU : 0.9422075142055973 , best Test mIOU : 0.9510345171377381\n",
      "Epoch : 77/2000 , learning rate : 0.001\n"
     ]
    },
    {
     "name": "stderr",
     "output_type": "stream",
     "text": [
      "100%|██████████| 23/23 [00:34<00:00,  1.52s/it]\n"
     ]
    },
    {
     "name": "stdout",
     "output_type": "stream",
     "text": [
      "[ Train | 077/2000 ] train_loss = 0.21776, train_iou = 0.92948\n"
     ]
    },
    {
     "name": "stderr",
     "output_type": "stream",
     "text": [
      "100%|██████████| 5/5 [00:06<00:00,  1.27s/it]\n"
     ]
    },
    {
     "name": "stdout",
     "output_type": "stream",
     "text": [
      "[ Valid | 077/2000 ] test_loss  = 0.21644, test_loss = 0.21644\n",
      "[ Valid | 078/2000 ] test_loss = 0.21644, test_iou = 0.92658\n",
      "Train Loss : 0.21775783015334088, Test Loss : 0.21644276082515718 , Test IOU : 0.9265759214512244 , best Test mIOU : 0.9510345171377381\n",
      "Epoch : 78/2000 , learning rate : 0.001\n"
     ]
    },
    {
     "name": "stderr",
     "output_type": "stream",
     "text": [
      "100%|██████████| 23/23 [00:35<00:00,  1.54s/it]\n"
     ]
    },
    {
     "name": "stdout",
     "output_type": "stream",
     "text": [
      "[ Train | 078/2000 ] train_loss = 0.21409, train_iou = 0.92521\n"
     ]
    },
    {
     "name": "stderr",
     "output_type": "stream",
     "text": [
      "100%|██████████| 5/5 [00:06<00:00,  1.29s/it]\n"
     ]
    },
    {
     "name": "stdout",
     "output_type": "stream",
     "text": [
      "[ Valid | 078/2000 ] test_loss  = 0.18611, test_loss = 0.18611\n",
      "[ Valid | 079/2000 ] test_loss = 0.18611, test_iou = 0.92536\n",
      "Train Loss : 0.21408639394718668, Test Loss : 0.1861145943403244 , Test IOU : 0.9253630678825575 , best Test mIOU : 0.9510345171377381\n",
      "Epoch : 79/2000 , learning rate : 0.001\n"
     ]
    },
    {
     "name": "stderr",
     "output_type": "stream",
     "text": [
      "100%|██████████| 23/23 [00:34<00:00,  1.51s/it]\n"
     ]
    },
    {
     "name": "stdout",
     "output_type": "stream",
     "text": [
      "[ Train | 079/2000 ] train_loss = 0.21788, train_iou = 0.91511\n"
     ]
    },
    {
     "name": "stderr",
     "output_type": "stream",
     "text": [
      "100%|██████████| 5/5 [00:06<00:00,  1.24s/it]\n"
     ]
    },
    {
     "name": "stdout",
     "output_type": "stream",
     "text": [
      "[ Valid | 079/2000 ] test_loss  = 0.18031, test_loss = 0.18031\n",
      "[ Valid | 080/2000 ] test_loss = 0.18031, test_iou = 0.95775 -> best\n",
      "Best model found at epoch 79, saving model\n",
      "Train Loss : 0.21787500705408014, Test Loss : 0.18031232953071594 , Test IOU : 0.9577468048909491 , best Test mIOU : 0.9577468048909491\n",
      "Epoch : 80/2000 , learning rate : 0.001\n"
     ]
    },
    {
     "name": "stderr",
     "output_type": "stream",
     "text": [
      "100%|██████████| 23/23 [00:35<00:00,  1.54s/it]\n"
     ]
    },
    {
     "name": "stdout",
     "output_type": "stream",
     "text": [
      "[ Train | 080/2000 ] train_loss = 0.22151, train_iou = 0.92454\n"
     ]
    },
    {
     "name": "stderr",
     "output_type": "stream",
     "text": [
      "100%|██████████| 5/5 [00:06<00:00,  1.22s/it]\n"
     ]
    },
    {
     "name": "stdout",
     "output_type": "stream",
     "text": [
      "[ Valid | 080/2000 ] test_loss  = 0.19507, test_loss = 0.19507\n",
      "[ Valid | 081/2000 ] test_loss = 0.19507, test_iou = 0.93879\n",
      "Train Loss : 0.2215106953745303, Test Loss : 0.19506534337997436 , Test IOU : 0.9387887472588419 , best Test mIOU : 0.9577468048909491\n",
      "Epoch : 81/2000 , learning rate : 0.001\n"
     ]
    },
    {
     "name": "stderr",
     "output_type": "stream",
     "text": [
      "100%|██████████| 23/23 [00:36<00:00,  1.59s/it]\n"
     ]
    },
    {
     "name": "stdout",
     "output_type": "stream",
     "text": [
      "[ Train | 081/2000 ] train_loss = 0.21402, train_iou = 0.92417\n"
     ]
    },
    {
     "name": "stderr",
     "output_type": "stream",
     "text": [
      "100%|██████████| 5/5 [00:07<00:00,  1.44s/it]\n"
     ]
    },
    {
     "name": "stdout",
     "output_type": "stream",
     "text": [
      "[ Valid | 081/2000 ] test_loss  = 0.17269, test_loss = 0.17269\n",
      "[ Valid | 082/2000 ] test_loss = 0.17269, test_iou = 0.94681\n",
      "Train Loss : 0.2140240060246509, Test Loss : 0.1726910024881363 , Test IOU : 0.9468122203031732 , best Test mIOU : 0.9577468048909491\n",
      "Epoch : 82/2000 , learning rate : 0.001\n"
     ]
    },
    {
     "name": "stderr",
     "output_type": "stream",
     "text": [
      "100%|██████████| 23/23 [00:36<00:00,  1.57s/it]\n"
     ]
    },
    {
     "name": "stdout",
     "output_type": "stream",
     "text": [
      "[ Train | 082/2000 ] train_loss = 0.22277, train_iou = 0.90068\n"
     ]
    },
    {
     "name": "stderr",
     "output_type": "stream",
     "text": [
      "100%|██████████| 5/5 [00:06<00:00,  1.32s/it]\n"
     ]
    },
    {
     "name": "stdout",
     "output_type": "stream",
     "text": [
      "[ Valid | 082/2000 ] test_loss  = 0.18132, test_loss = 0.18132\n",
      "[ Valid | 083/2000 ] test_loss = 0.18132, test_iou = 0.94582\n",
      "Train Loss : 0.22276770679847055, Test Loss : 0.18131849765777588 , Test IOU : 0.9458189474667928 , best Test mIOU : 0.9577468048909491\n",
      "Epoch : 83/2000 , learning rate : 0.001\n"
     ]
    },
    {
     "name": "stderr",
     "output_type": "stream",
     "text": [
      "100%|██████████| 23/23 [00:35<00:00,  1.53s/it]\n"
     ]
    },
    {
     "name": "stdout",
     "output_type": "stream",
     "text": [
      "[ Train | 083/2000 ] train_loss = 0.23061, train_iou = 0.91111\n"
     ]
    },
    {
     "name": "stderr",
     "output_type": "stream",
     "text": [
      "100%|██████████| 5/5 [00:06<00:00,  1.32s/it]\n"
     ]
    },
    {
     "name": "stdout",
     "output_type": "stream",
     "text": [
      "[ Valid | 083/2000 ] test_loss  = 0.18634, test_loss = 0.18634\n",
      "[ Valid | 084/2000 ] test_loss = 0.18634, test_iou = 0.93618\n",
      "Train Loss : 0.2306071118168209, Test Loss : 0.18634090721607208 , Test IOU : 0.936183004853725 , best Test mIOU : 0.9577468048909491\n",
      "Epoch : 84/2000 , learning rate : 0.001\n"
     ]
    },
    {
     "name": "stderr",
     "output_type": "stream",
     "text": [
      "100%|██████████| 23/23 [00:36<00:00,  1.58s/it]\n"
     ]
    },
    {
     "name": "stdout",
     "output_type": "stream",
     "text": [
      "[ Train | 084/2000 ] train_loss = 0.21950, train_iou = 0.91252\n"
     ]
    },
    {
     "name": "stderr",
     "output_type": "stream",
     "text": [
      "100%|██████████| 5/5 [00:06<00:00,  1.30s/it]\n"
     ]
    },
    {
     "name": "stdout",
     "output_type": "stream",
     "text": [
      "[ Valid | 084/2000 ] test_loss  = 0.17114, test_loss = 0.17114\n",
      "[ Valid | 085/2000 ] test_loss = 0.17114, test_iou = 0.94629\n",
      "Train Loss : 0.2195026297932086, Test Loss : 0.1711401164531708 , Test IOU : 0.9462933392453399 , best Test mIOU : 0.9577468048909491\n",
      "Epoch : 85/2000 , learning rate : 0.001\n"
     ]
    },
    {
     "name": "stderr",
     "output_type": "stream",
     "text": [
      "100%|██████████| 23/23 [00:36<00:00,  1.58s/it]\n"
     ]
    },
    {
     "name": "stdout",
     "output_type": "stream",
     "text": [
      "[ Train | 085/2000 ] train_loss = 0.23961, train_iou = 0.89733\n"
     ]
    },
    {
     "name": "stderr",
     "output_type": "stream",
     "text": [
      "100%|██████████| 5/5 [00:06<00:00,  1.28s/it]\n"
     ]
    },
    {
     "name": "stdout",
     "output_type": "stream",
     "text": [
      "[ Valid | 085/2000 ] test_loss  = 0.20603, test_loss = 0.20603\n",
      "[ Valid | 086/2000 ] test_loss = 0.20603, test_iou = 0.93770\n",
      "Train Loss : 0.23960720002651215, Test Loss : 0.2060270130634308 , Test IOU : 0.9376979363236166 , best Test mIOU : 0.9577468048909491\n",
      "Epoch : 86/2000 , learning rate : 0.001\n"
     ]
    },
    {
     "name": "stderr",
     "output_type": "stream",
     "text": [
      "100%|██████████| 23/23 [00:33<00:00,  1.45s/it]\n"
     ]
    },
    {
     "name": "stdout",
     "output_type": "stream",
     "text": [
      "[ Train | 086/2000 ] train_loss = 0.22876, train_iou = 0.89705\n"
     ]
    },
    {
     "name": "stderr",
     "output_type": "stream",
     "text": [
      "100%|██████████| 5/5 [00:06<00:00,  1.39s/it]\n"
     ]
    },
    {
     "name": "stdout",
     "output_type": "stream",
     "text": [
      "[ Valid | 086/2000 ] test_loss  = 0.18995, test_loss = 0.18995\n",
      "[ Valid | 087/2000 ] test_loss = 0.18995, test_iou = 0.95236\n",
      "Train Loss : 0.2287597364705542, Test Loss : 0.18995414972305297 , Test IOU : 0.9523636539347867 , best Test mIOU : 0.9577468048909491\n",
      "Epoch : 87/2000 , learning rate : 0.001\n"
     ]
    },
    {
     "name": "stderr",
     "output_type": "stream",
     "text": [
      "100%|██████████| 23/23 [00:36<00:00,  1.57s/it]\n"
     ]
    },
    {
     "name": "stdout",
     "output_type": "stream",
     "text": [
      "[ Train | 087/2000 ] train_loss = 0.21638, train_iou = 0.91128\n"
     ]
    },
    {
     "name": "stderr",
     "output_type": "stream",
     "text": [
      "100%|██████████| 5/5 [00:06<00:00,  1.36s/it]\n"
     ]
    },
    {
     "name": "stdout",
     "output_type": "stream",
     "text": [
      "[ Valid | 087/2000 ] test_loss  = 0.17196, test_loss = 0.17196\n",
      "[ Valid | 088/2000 ] test_loss = 0.17196, test_iou = 0.93308\n",
      "Train Loss : 0.21637874129025833, Test Loss : 0.17196432054042815 , Test IOU : 0.9330832683740056 , best Test mIOU : 0.9577468048909491\n",
      "Epoch : 88/2000 , learning rate : 0.001\n"
     ]
    },
    {
     "name": "stderr",
     "output_type": "stream",
     "text": [
      "100%|██████████| 23/23 [00:35<00:00,  1.54s/it]\n"
     ]
    },
    {
     "name": "stdout",
     "output_type": "stream",
     "text": [
      "[ Train | 088/2000 ] train_loss = 0.20986, train_iou = 0.93298\n"
     ]
    },
    {
     "name": "stderr",
     "output_type": "stream",
     "text": [
      "100%|██████████| 5/5 [00:06<00:00,  1.32s/it]\n"
     ]
    },
    {
     "name": "stdout",
     "output_type": "stream",
     "text": [
      "[ Valid | 088/2000 ] test_loss  = 0.20603, test_loss = 0.20603\n",
      "[ Valid | 089/2000 ] test_loss = 0.20603, test_iou = 0.93639\n",
      "Train Loss : 0.20986270580602728, Test Loss : 0.20603453516960143 , Test IOU : 0.9363923313008939 , best Test mIOU : 0.9577468048909491\n",
      "Epoch : 89/2000 , learning rate : 0.001\n"
     ]
    },
    {
     "name": "stderr",
     "output_type": "stream",
     "text": [
      "100%|██████████| 23/23 [00:35<00:00,  1.54s/it]\n"
     ]
    },
    {
     "name": "stdout",
     "output_type": "stream",
     "text": [
      "[ Train | 089/2000 ] train_loss = 0.22046, train_iou = 0.92020\n"
     ]
    },
    {
     "name": "stderr",
     "output_type": "stream",
     "text": [
      "100%|██████████| 5/5 [00:06<00:00,  1.21s/it]\n"
     ]
    },
    {
     "name": "stdout",
     "output_type": "stream",
     "text": [
      "[ Valid | 089/2000 ] test_loss  = 0.17803, test_loss = 0.17803\n",
      "[ Valid | 090/2000 ] test_loss = 0.17803, test_iou = 0.94573\n",
      "Train Loss : 0.22046424124551856, Test Loss : 0.17802736759185792 , Test IOU : 0.9457313838440278 , best Test mIOU : 0.9577468048909491\n",
      "Epoch : 90/2000 , learning rate : 0.001\n"
     ]
    },
    {
     "name": "stderr",
     "output_type": "stream",
     "text": [
      "100%|██████████| 23/23 [00:33<00:00,  1.45s/it]\n"
     ]
    },
    {
     "name": "stdout",
     "output_type": "stream",
     "text": [
      "[ Train | 090/2000 ] train_loss = 0.21549, train_iou = 0.93502\n"
     ]
    },
    {
     "name": "stderr",
     "output_type": "stream",
     "text": [
      "100%|██████████| 5/5 [00:06<00:00,  1.21s/it]\n"
     ]
    },
    {
     "name": "stdout",
     "output_type": "stream",
     "text": [
      "[ Valid | 090/2000 ] test_loss  = 0.18432, test_loss = 0.18432\n",
      "[ Valid | 091/2000 ] test_loss = 0.18432, test_iou = 0.94458\n",
      "Train Loss : 0.2154945238776829, Test Loss : 0.18432462513446807 , Test IOU : 0.9445801693623531 , best Test mIOU : 0.9577468048909491\n",
      "Epoch : 91/2000 , learning rate : 0.001\n"
     ]
    },
    {
     "name": "stderr",
     "output_type": "stream",
     "text": [
      "100%|██████████| 23/23 [00:33<00:00,  1.45s/it]\n"
     ]
    },
    {
     "name": "stdout",
     "output_type": "stream",
     "text": [
      "[ Train | 091/2000 ] train_loss = 0.20268, train_iou = 0.91544\n"
     ]
    },
    {
     "name": "stderr",
     "output_type": "stream",
     "text": [
      "100%|██████████| 5/5 [00:06<00:00,  1.23s/it]\n"
     ]
    },
    {
     "name": "stdout",
     "output_type": "stream",
     "text": [
      "[ Valid | 091/2000 ] test_loss  = 0.17458, test_loss = 0.17458\n",
      "[ Valid | 092/2000 ] test_loss = 0.17458, test_iou = 0.94277\n",
      "Train Loss : 0.2026803959970889, Test Loss : 0.17458381950855256 , Test IOU : 0.9427727171752224 , best Test mIOU : 0.9577468048909491\n",
      "Epoch : 92/2000 , learning rate : 0.001\n"
     ]
    },
    {
     "name": "stderr",
     "output_type": "stream",
     "text": [
      "100%|██████████| 23/23 [00:33<00:00,  1.45s/it]\n"
     ]
    },
    {
     "name": "stdout",
     "output_type": "stream",
     "text": [
      "[ Train | 092/2000 ] train_loss = 0.19789, train_iou = 0.89830\n"
     ]
    },
    {
     "name": "stderr",
     "output_type": "stream",
     "text": [
      "100%|██████████| 5/5 [00:06<00:00,  1.24s/it]\n"
     ]
    },
    {
     "name": "stdout",
     "output_type": "stream",
     "text": [
      "[ Valid | 092/2000 ] test_loss  = 0.17259, test_loss = 0.17259\n",
      "[ Valid | 093/2000 ] test_loss = 0.17259, test_iou = 0.94616\n",
      "Train Loss : 0.19789486086886862, Test Loss : 0.1725897192955017 , Test IOU : 0.9461555746712762 , best Test mIOU : 0.9577468048909491\n",
      "Epoch : 93/2000 , learning rate : 0.001\n"
     ]
    },
    {
     "name": "stderr",
     "output_type": "stream",
     "text": [
      "100%|██████████| 23/23 [00:34<00:00,  1.51s/it]\n"
     ]
    },
    {
     "name": "stdout",
     "output_type": "stream",
     "text": [
      "[ Train | 093/2000 ] train_loss = 0.20333, train_iou = 0.92709\n"
     ]
    },
    {
     "name": "stderr",
     "output_type": "stream",
     "text": [
      "100%|██████████| 5/5 [00:06<00:00,  1.21s/it]\n"
     ]
    },
    {
     "name": "stdout",
     "output_type": "stream",
     "text": [
      "[ Valid | 093/2000 ] test_loss  = 0.16963, test_loss = 0.16963\n",
      "[ Valid | 094/2000 ] test_loss = 0.16963, test_iou = 0.94133\n",
      "Train Loss : 0.2033316143181013, Test Loss : 0.1696290820837021 , Test IOU : 0.9413256500699472 , best Test mIOU : 0.9577468048909491\n",
      "Epoch : 94/2000 , learning rate : 0.001\n"
     ]
    },
    {
     "name": "stderr",
     "output_type": "stream",
     "text": [
      "100%|██████████| 23/23 [00:33<00:00,  1.46s/it]\n"
     ]
    },
    {
     "name": "stdout",
     "output_type": "stream",
     "text": [
      "[ Train | 094/2000 ] train_loss = 0.19849, train_iou = 0.92077\n"
     ]
    },
    {
     "name": "stderr",
     "output_type": "stream",
     "text": [
      "100%|██████████| 5/5 [00:04<00:00,  1.02it/s]\n"
     ]
    },
    {
     "name": "stdout",
     "output_type": "stream",
     "text": [
      "[ Valid | 094/2000 ] test_loss  = 0.16816, test_loss = 0.16816\n",
      "[ Valid | 095/2000 ] test_loss = 0.16816, test_iou = 0.95029\n",
      "Train Loss : 0.198486160972844, Test Loss : 0.16816432476043702 , Test IOU : 0.9502928570203354 , best Test mIOU : 0.9577468048909491\n",
      "Epoch : 95/2000 , learning rate : 0.001\n"
     ]
    },
    {
     "name": "stderr",
     "output_type": "stream",
     "text": [
      "100%|██████████| 23/23 [00:29<00:00,  1.28s/it]\n"
     ]
    },
    {
     "name": "stdout",
     "output_type": "stream",
     "text": [
      "[ Train | 095/2000 ] train_loss = 0.20146, train_iou = 0.91576\n"
     ]
    },
    {
     "name": "stderr",
     "output_type": "stream",
     "text": [
      "100%|██████████| 5/5 [00:04<00:00,  1.01it/s]\n"
     ]
    },
    {
     "name": "stdout",
     "output_type": "stream",
     "text": [
      "[ Valid | 095/2000 ] test_loss  = 0.17916, test_loss = 0.17916\n",
      "[ Valid | 096/2000 ] test_loss = 0.17916, test_iou = 0.95119\n",
      "Train Loss : 0.20145603431307751, Test Loss : 0.1791626036167145 , Test IOU : 0.9511907056667589 , best Test mIOU : 0.9577468048909491\n",
      "Epoch : 96/2000 , learning rate : 0.001\n"
     ]
    },
    {
     "name": "stderr",
     "output_type": "stream",
     "text": [
      "100%|██████████| 23/23 [00:30<00:00,  1.31s/it]\n"
     ]
    },
    {
     "name": "stdout",
     "output_type": "stream",
     "text": [
      "[ Train | 096/2000 ] train_loss = 0.19017, train_iou = 0.93097\n"
     ]
    },
    {
     "name": "stderr",
     "output_type": "stream",
     "text": [
      "100%|██████████| 5/5 [00:05<00:00,  1.01s/it]\n"
     ]
    },
    {
     "name": "stdout",
     "output_type": "stream",
     "text": [
      "[ Valid | 096/2000 ] test_loss  = 0.16582, test_loss = 0.16582\n",
      "[ Valid | 097/2000 ] test_loss = 0.16582, test_iou = 0.93819\n",
      "Train Loss : 0.19016645913538727, Test Loss : 0.1658219188451767 , Test IOU : 0.9381921726873053 , best Test mIOU : 0.9577468048909491\n",
      "Epoch : 97/2000 , learning rate : 0.001\n"
     ]
    },
    {
     "name": "stderr",
     "output_type": "stream",
     "text": [
      "100%|██████████| 23/23 [00:30<00:00,  1.31s/it]\n"
     ]
    },
    {
     "name": "stdout",
     "output_type": "stream",
     "text": [
      "[ Train | 097/2000 ] train_loss = 0.19526, train_iou = 0.92994\n"
     ]
    },
    {
     "name": "stderr",
     "output_type": "stream",
     "text": [
      "100%|██████████| 5/5 [00:05<00:00,  1.04s/it]\n"
     ]
    },
    {
     "name": "stdout",
     "output_type": "stream",
     "text": [
      "[ Valid | 097/2000 ] test_loss  = 0.17674, test_loss = 0.17674\n",
      "[ Valid | 098/2000 ] test_loss = 0.17674, test_iou = 0.94741\n",
      "Train Loss : 0.19525664267332657, Test Loss : 0.1767412543296814 , Test IOU : 0.9474110509045641 , best Test mIOU : 0.9577468048909491\n",
      "Epoch : 98/2000 , learning rate : 0.001\n"
     ]
    },
    {
     "name": "stderr",
     "output_type": "stream",
     "text": [
      "100%|██████████| 23/23 [00:29<00:00,  1.30s/it]\n"
     ]
    },
    {
     "name": "stdout",
     "output_type": "stream",
     "text": [
      "[ Train | 098/2000 ] train_loss = 0.20387, train_iou = 0.93666\n"
     ]
    },
    {
     "name": "stderr",
     "output_type": "stream",
     "text": [
      "100%|██████████| 5/5 [00:04<00:00,  1.01it/s]\n"
     ]
    },
    {
     "name": "stdout",
     "output_type": "stream",
     "text": [
      "[ Valid | 098/2000 ] test_loss  = 0.17922, test_loss = 0.17922\n",
      "[ Valid | 099/2000 ] test_loss = 0.17922, test_iou = 0.94048\n",
      "Train Loss : 0.20386645910532578, Test Loss : 0.17921815514564515 , Test IOU : 0.9404818735957369 , best Test mIOU : 0.9577468048909491\n",
      "Epoch : 99/2000 , learning rate : 0.001\n"
     ]
    },
    {
     "name": "stderr",
     "output_type": "stream",
     "text": [
      "100%|██████████| 23/23 [00:29<00:00,  1.26s/it]\n"
     ]
    },
    {
     "name": "stdout",
     "output_type": "stream",
     "text": [
      "[ Train | 099/2000 ] train_loss = 0.19578, train_iou = 0.91240\n"
     ]
    },
    {
     "name": "stderr",
     "output_type": "stream",
     "text": [
      "100%|██████████| 5/5 [00:05<00:00,  1.04s/it]\n"
     ]
    },
    {
     "name": "stdout",
     "output_type": "stream",
     "text": [
      "[ Valid | 099/2000 ] test_loss  = 0.16154, test_loss = 0.16154\n",
      "[ Valid | 100/2000 ] test_loss = 0.16154, test_iou = 0.95350\n",
      "Train Loss : 0.19578031677266824, Test Loss : 0.1615367740392685 , Test IOU : 0.9535014211601609 , best Test mIOU : 0.9577468048909491\n",
      "Epoch : 100/2000 , learning rate : 0.00095\n"
     ]
    },
    {
     "name": "stderr",
     "output_type": "stream",
     "text": [
      "100%|██████████| 23/23 [00:28<00:00,  1.25s/it]\n"
     ]
    },
    {
     "name": "stdout",
     "output_type": "stream",
     "text": [
      "[ Train | 100/2000 ] train_loss = 0.19471, train_iou = 0.90528\n"
     ]
    },
    {
     "name": "stderr",
     "output_type": "stream",
     "text": [
      "100%|██████████| 5/5 [00:04<00:00,  1.02it/s]\n"
     ]
    },
    {
     "name": "stdout",
     "output_type": "stream",
     "text": [
      "[ Valid | 100/2000 ] test_loss  = 0.18617, test_loss = 0.18617\n",
      "[ Valid | 101/2000 ] test_loss = 0.18617, test_iou = 0.93493\n",
      "Train Loss : 0.19471079499825186, Test Loss : 0.18616835176944732 , Test IOU : 0.9349348121434655 , best Test mIOU : 0.9577468048909491\n",
      "Epoch : 101/2000 , learning rate : 0.00095\n"
     ]
    },
    {
     "name": "stderr",
     "output_type": "stream",
     "text": [
      "100%|██████████| 23/23 [00:29<00:00,  1.26s/it]\n"
     ]
    },
    {
     "name": "stdout",
     "output_type": "stream",
     "text": [
      "[ Train | 101/2000 ] train_loss = 0.19496, train_iou = 0.90411\n"
     ]
    },
    {
     "name": "stderr",
     "output_type": "stream",
     "text": [
      "100%|██████████| 5/5 [00:05<00:00,  1.03s/it]\n"
     ]
    },
    {
     "name": "stdout",
     "output_type": "stream",
     "text": [
      "[ Valid | 101/2000 ] test_loss  = 0.17591, test_loss = 0.17591\n",
      "[ Valid | 102/2000 ] test_loss = 0.17591, test_iou = 0.94662\n",
      "Train Loss : 0.19495933146580405, Test Loss : 0.1759149670600891 , Test IOU : 0.9466208773380169 , best Test mIOU : 0.9577468048909491\n",
      "Epoch : 102/2000 , learning rate : 0.00095\n"
     ]
    },
    {
     "name": "stderr",
     "output_type": "stream",
     "text": [
      "100%|██████████| 23/23 [00:29<00:00,  1.28s/it]\n"
     ]
    },
    {
     "name": "stdout",
     "output_type": "stream",
     "text": [
      "[ Train | 102/2000 ] train_loss = 0.19482, train_iou = 0.91622\n"
     ]
    },
    {
     "name": "stderr",
     "output_type": "stream",
     "text": [
      "100%|██████████| 5/5 [00:05<00:00,  1.00s/it]\n"
     ]
    },
    {
     "name": "stdout",
     "output_type": "stream",
     "text": [
      "[ Valid | 102/2000 ] test_loss  = 0.16933, test_loss = 0.16933\n",
      "[ Valid | 103/2000 ] test_loss = 0.16933, test_iou = 0.94448\n",
      "Train Loss : 0.19482144972552423, Test Loss : 0.16933349668979644 , Test IOU : 0.9444842416850406 , best Test mIOU : 0.9577468048909491\n",
      "Epoch : 103/2000 , learning rate : 0.00095\n"
     ]
    },
    {
     "name": "stderr",
     "output_type": "stream",
     "text": [
      "100%|██████████| 23/23 [00:28<00:00,  1.24s/it]\n"
     ]
    },
    {
     "name": "stdout",
     "output_type": "stream",
     "text": [
      "[ Train | 103/2000 ] train_loss = 0.19994, train_iou = 0.91642\n"
     ]
    },
    {
     "name": "stderr",
     "output_type": "stream",
     "text": [
      "100%|██████████| 5/5 [00:04<00:00,  1.02it/s]\n"
     ]
    },
    {
     "name": "stdout",
     "output_type": "stream",
     "text": [
      "[ Valid | 103/2000 ] test_loss  = 0.16833, test_loss = 0.16833\n",
      "[ Valid | 104/2000 ] test_loss = 0.16833, test_iou = 0.95352\n",
      "Train Loss : 0.19994121401206308, Test Loss : 0.16833483576774597 , Test IOU : 0.9535197490851781 , best Test mIOU : 0.9577468048909491\n",
      "Epoch : 104/2000 , learning rate : 0.00095\n"
     ]
    },
    {
     "name": "stderr",
     "output_type": "stream",
     "text": [
      "100%|██████████| 23/23 [00:28<00:00,  1.25s/it]\n"
     ]
    },
    {
     "name": "stdout",
     "output_type": "stream",
     "text": [
      "[ Train | 104/2000 ] train_loss = 0.19182, train_iou = 0.88175\n"
     ]
    },
    {
     "name": "stderr",
     "output_type": "stream",
     "text": [
      "100%|██████████| 5/5 [00:04<00:00,  1.02it/s]\n"
     ]
    },
    {
     "name": "stdout",
     "output_type": "stream",
     "text": [
      "[ Valid | 104/2000 ] test_loss  = 0.16488, test_loss = 0.16488\n",
      "[ Valid | 105/2000 ] test_loss = 0.16488, test_iou = 0.95005\n",
      "Train Loss : 0.19181979803935342, Test Loss : 0.16488035321235656 , Test IOU : 0.9500471487165282 , best Test mIOU : 0.9577468048909491\n",
      "Epoch : 105/2000 , learning rate : 0.00095\n"
     ]
    },
    {
     "name": "stderr",
     "output_type": "stream",
     "text": [
      "100%|██████████| 23/23 [00:28<00:00,  1.25s/it]\n"
     ]
    },
    {
     "name": "stdout",
     "output_type": "stream",
     "text": [
      "[ Train | 105/2000 ] train_loss = 0.19591, train_iou = 0.93626\n"
     ]
    },
    {
     "name": "stderr",
     "output_type": "stream",
     "text": [
      "100%|██████████| 5/5 [00:04<00:00,  1.01it/s]\n"
     ]
    },
    {
     "name": "stdout",
     "output_type": "stream",
     "text": [
      "[ Valid | 105/2000 ] test_loss  = 0.16146, test_loss = 0.16146\n",
      "[ Valid | 106/2000 ] test_loss = 0.16146, test_iou = 0.94998\n",
      "Train Loss : 0.19590568736843442, Test Loss : 0.161464661359787 , Test IOU : 0.9499821301096768 , best Test mIOU : 0.9577468048909491\n",
      "Epoch : 106/2000 , learning rate : 0.00095\n"
     ]
    },
    {
     "name": "stderr",
     "output_type": "stream",
     "text": [
      "100%|██████████| 23/23 [00:29<00:00,  1.28s/it]\n"
     ]
    },
    {
     "name": "stdout",
     "output_type": "stream",
     "text": [
      "[ Train | 106/2000 ] train_loss = 0.19242, train_iou = 0.94648\n"
     ]
    },
    {
     "name": "stderr",
     "output_type": "stream",
     "text": [
      "100%|██████████| 5/5 [00:04<00:00,  1.01it/s]\n"
     ]
    },
    {
     "name": "stdout",
     "output_type": "stream",
     "text": [
      "[ Valid | 106/2000 ] test_loss  = 0.17378, test_loss = 0.17378\n",
      "[ Valid | 107/2000 ] test_loss = 0.17378, test_iou = 0.94187\n",
      "Train Loss : 0.19241718040860217, Test Loss : 0.1737814575433731 , Test IOU : 0.9418725144576567 , best Test mIOU : 0.9577468048909491\n",
      "Epoch : 107/2000 , learning rate : 0.00095\n"
     ]
    },
    {
     "name": "stderr",
     "output_type": "stream",
     "text": [
      "100%|██████████| 23/23 [00:28<00:00,  1.26s/it]\n"
     ]
    },
    {
     "name": "stdout",
     "output_type": "stream",
     "text": [
      "[ Train | 107/2000 ] train_loss = 0.19322, train_iou = 0.92528\n"
     ]
    },
    {
     "name": "stderr",
     "output_type": "stream",
     "text": [
      "100%|██████████| 5/5 [00:04<00:00,  1.02it/s]\n"
     ]
    },
    {
     "name": "stdout",
     "output_type": "stream",
     "text": [
      "[ Valid | 107/2000 ] test_loss  = 0.25137, test_loss = 0.25137\n",
      "[ Valid | 108/2000 ] test_loss = 0.25137, test_iou = 0.94175\n",
      "Train Loss : 0.1932154207125954, Test Loss : 0.2513702303171158 , Test IOU : 0.9417483133736336 , best Test mIOU : 0.9577468048909491\n",
      "Epoch : 108/2000 , learning rate : 0.00095\n"
     ]
    },
    {
     "name": "stderr",
     "output_type": "stream",
     "text": [
      "100%|██████████| 23/23 [00:28<00:00,  1.23s/it]\n"
     ]
    },
    {
     "name": "stdout",
     "output_type": "stream",
     "text": [
      "[ Train | 108/2000 ] train_loss = 0.19162, train_iou = 0.92378\n"
     ]
    },
    {
     "name": "stderr",
     "output_type": "stream",
     "text": [
      "100%|██████████| 5/5 [00:05<00:00,  1.00s/it]\n"
     ]
    },
    {
     "name": "stdout",
     "output_type": "stream",
     "text": [
      "[ Valid | 108/2000 ] test_loss  = 0.15880, test_loss = 0.15880\n",
      "[ Valid | 109/2000 ] test_loss = 0.15880, test_iou = 0.94935\n",
      "Train Loss : 0.19161638099214304, Test Loss : 0.15879975855350495 , Test IOU : 0.9493504438260298 , best Test mIOU : 0.9577468048909491\n",
      "Epoch : 109/2000 , learning rate : 0.00095\n"
     ]
    },
    {
     "name": "stderr",
     "output_type": "stream",
     "text": [
      "100%|██████████| 23/23 [00:28<00:00,  1.25s/it]\n"
     ]
    },
    {
     "name": "stdout",
     "output_type": "stream",
     "text": [
      "[ Train | 109/2000 ] train_loss = 0.19227, train_iou = 0.92310\n"
     ]
    },
    {
     "name": "stderr",
     "output_type": "stream",
     "text": [
      "100%|██████████| 5/5 [00:04<00:00,  1.03it/s]\n"
     ]
    },
    {
     "name": "stdout",
     "output_type": "stream",
     "text": [
      "[ Valid | 109/2000 ] test_loss  = 0.17179, test_loss = 0.17179\n",
      "[ Valid | 110/2000 ] test_loss = 0.17179, test_iou = 0.94517\n",
      "Train Loss : 0.1922669469014458, Test Loss : 0.1717933565378189 , Test IOU : 0.945165715449893 , best Test mIOU : 0.9577468048909491\n",
      "Epoch : 110/2000 , learning rate : 0.00095\n"
     ]
    },
    {
     "name": "stderr",
     "output_type": "stream",
     "text": [
      "100%|██████████| 23/23 [00:28<00:00,  1.25s/it]\n"
     ]
    },
    {
     "name": "stdout",
     "output_type": "stream",
     "text": [
      "[ Train | 110/2000 ] train_loss = 0.19245, train_iou = 0.93105\n"
     ]
    },
    {
     "name": "stderr",
     "output_type": "stream",
     "text": [
      "100%|██████████| 5/5 [00:04<00:00,  1.02it/s]\n"
     ]
    },
    {
     "name": "stdout",
     "output_type": "stream",
     "text": [
      "[ Valid | 110/2000 ] test_loss  = 0.17009, test_loss = 0.17009\n",
      "[ Valid | 111/2000 ] test_loss = 0.17009, test_iou = 0.95155\n",
      "Train Loss : 0.19244606274625528, Test Loss : 0.17008993327617644 , Test IOU : 0.9515499405423462 , best Test mIOU : 0.9577468048909491\n",
      "Epoch : 111/2000 , learning rate : 0.00095\n"
     ]
    },
    {
     "name": "stderr",
     "output_type": "stream",
     "text": [
      "100%|██████████| 23/23 [00:28<00:00,  1.24s/it]\n"
     ]
    },
    {
     "name": "stdout",
     "output_type": "stream",
     "text": [
      "[ Train | 111/2000 ] train_loss = 0.18332, train_iou = 0.91059\n"
     ]
    },
    {
     "name": "stderr",
     "output_type": "stream",
     "text": [
      "100%|██████████| 5/5 [00:04<00:00,  1.01it/s]\n"
     ]
    },
    {
     "name": "stdout",
     "output_type": "stream",
     "text": [
      "[ Valid | 111/2000 ] test_loss  = 0.16898, test_loss = 0.16898\n",
      "[ Valid | 112/2000 ] test_loss = 0.16898, test_iou = 0.95030\n",
      "Train Loss : 0.18331685079180676, Test Loss : 0.1689784675836563 , Test IOU : 0.9503018799545357 , best Test mIOU : 0.9577468048909491\n",
      "Epoch : 112/2000 , learning rate : 0.00095\n"
     ]
    },
    {
     "name": "stderr",
     "output_type": "stream",
     "text": [
      "100%|██████████| 23/23 [00:28<00:00,  1.24s/it]\n"
     ]
    },
    {
     "name": "stdout",
     "output_type": "stream",
     "text": [
      "[ Train | 112/2000 ] train_loss = 0.18456, train_iou = 0.93601\n"
     ]
    },
    {
     "name": "stderr",
     "output_type": "stream",
     "text": [
      "100%|██████████| 5/5 [00:04<00:00,  1.01it/s]\n"
     ]
    },
    {
     "name": "stdout",
     "output_type": "stream",
     "text": [
      "[ Valid | 112/2000 ] test_loss  = 0.17149, test_loss = 0.17149\n",
      "[ Valid | 113/2000 ] test_loss = 0.17149, test_iou = 0.94729\n",
      "Train Loss : 0.18456293836883877, Test Loss : 0.17149311006069184 , Test IOU : 0.9472920777107421 , best Test mIOU : 0.9577468048909491\n",
      "Epoch : 113/2000 , learning rate : 0.00095\n"
     ]
    },
    {
     "name": "stderr",
     "output_type": "stream",
     "text": [
      "100%|██████████| 23/23 [00:28<00:00,  1.25s/it]\n"
     ]
    },
    {
     "name": "stdout",
     "output_type": "stream",
     "text": [
      "[ Train | 113/2000 ] train_loss = 0.19164, train_iou = 0.93504\n"
     ]
    },
    {
     "name": "stderr",
     "output_type": "stream",
     "text": [
      "100%|██████████| 5/5 [00:04<00:00,  1.02it/s]\n"
     ]
    },
    {
     "name": "stdout",
     "output_type": "stream",
     "text": [
      "[ Valid | 113/2000 ] test_loss  = 0.17250, test_loss = 0.17250\n",
      "[ Valid | 114/2000 ] test_loss = 0.17250, test_iou = 0.95163\n",
      "Train Loss : 0.19163767086422961, Test Loss : 0.1724975198507309 , Test IOU : 0.9516292057838799 , best Test mIOU : 0.9577468048909491\n",
      "Epoch : 114/2000 , learning rate : 0.00095\n"
     ]
    },
    {
     "name": "stderr",
     "output_type": "stream",
     "text": [
      "100%|██████████| 23/23 [00:28<00:00,  1.25s/it]\n"
     ]
    },
    {
     "name": "stdout",
     "output_type": "stream",
     "text": [
      "[ Train | 114/2000 ] train_loss = 0.19304, train_iou = 0.90226\n"
     ]
    },
    {
     "name": "stderr",
     "output_type": "stream",
     "text": [
      "100%|██████████| 5/5 [00:04<00:00,  1.01it/s]\n"
     ]
    },
    {
     "name": "stdout",
     "output_type": "stream",
     "text": [
      "[ Valid | 114/2000 ] test_loss  = 0.16010, test_loss = 0.16010\n",
      "[ Valid | 115/2000 ] test_loss = 0.16010, test_iou = 0.94608\n",
      "Train Loss : 0.19303960320742233, Test Loss : 0.16010380685329437 , Test IOU : 0.9460833850855289 , best Test mIOU : 0.9577468048909491\n",
      "Epoch : 115/2000 , learning rate : 0.00095\n"
     ]
    },
    {
     "name": "stderr",
     "output_type": "stream",
     "text": [
      "100%|██████████| 23/23 [00:28<00:00,  1.26s/it]\n"
     ]
    },
    {
     "name": "stdout",
     "output_type": "stream",
     "text": [
      "[ Train | 115/2000 ] train_loss = 0.18941, train_iou = 0.92627\n"
     ]
    },
    {
     "name": "stderr",
     "output_type": "stream",
     "text": [
      "100%|██████████| 5/5 [00:04<00:00,  1.03it/s]\n"
     ]
    },
    {
     "name": "stdout",
     "output_type": "stream",
     "text": [
      "[ Valid | 115/2000 ] test_loss  = 0.16211, test_loss = 0.16211\n",
      "[ Valid | 116/2000 ] test_loss = 0.16211, test_iou = 0.95456\n",
      "Train Loss : 0.18940898257753122, Test Loss : 0.16210778355598449 , Test IOU : 0.9545617885630836 , best Test mIOU : 0.9577468048909491\n",
      "Epoch : 116/2000 , learning rate : 0.00095\n"
     ]
    },
    {
     "name": "stderr",
     "output_type": "stream",
     "text": [
      "100%|██████████| 23/23 [00:28<00:00,  1.25s/it]\n"
     ]
    },
    {
     "name": "stdout",
     "output_type": "stream",
     "text": [
      "[ Train | 116/2000 ] train_loss = 0.18384, train_iou = 0.91851\n"
     ]
    },
    {
     "name": "stderr",
     "output_type": "stream",
     "text": [
      "100%|██████████| 5/5 [00:04<00:00,  1.03it/s]\n"
     ]
    },
    {
     "name": "stdout",
     "output_type": "stream",
     "text": [
      "[ Valid | 116/2000 ] test_loss  = 0.16672, test_loss = 0.16672\n",
      "[ Valid | 117/2000 ] test_loss = 0.16672, test_iou = 0.95897 -> best\n",
      "Best model found at epoch 116, saving model\n",
      "Train Loss : 0.1838366045900013, Test Loss : 0.16671981513500214 , Test IOU : 0.958972451304273 , best Test mIOU : 0.958972451304273\n",
      "Epoch : 117/2000 , learning rate : 0.00095\n"
     ]
    },
    {
     "name": "stderr",
     "output_type": "stream",
     "text": [
      "100%|██████████| 23/23 [00:28<00:00,  1.24s/it]\n"
     ]
    },
    {
     "name": "stdout",
     "output_type": "stream",
     "text": [
      "[ Train | 117/2000 ] train_loss = 0.18407, train_iou = 0.87124\n"
     ]
    },
    {
     "name": "stderr",
     "output_type": "stream",
     "text": [
      "100%|██████████| 5/5 [00:04<00:00,  1.03it/s]\n"
     ]
    },
    {
     "name": "stdout",
     "output_type": "stream",
     "text": [
      "[ Valid | 117/2000 ] test_loss  = 0.16296, test_loss = 0.16296\n",
      "[ Valid | 118/2000 ] test_loss = 0.16296, test_iou = 0.94774\n",
      "Train Loss : 0.18407109314980713, Test Loss : 0.16296300888061524 , Test IOU : 0.9477439641443732 , best Test mIOU : 0.958972451304273\n",
      "Epoch : 118/2000 , learning rate : 0.00095\n"
     ]
    },
    {
     "name": "stderr",
     "output_type": "stream",
     "text": [
      "100%|██████████| 23/23 [00:28<00:00,  1.25s/it]\n"
     ]
    },
    {
     "name": "stdout",
     "output_type": "stream",
     "text": [
      "[ Train | 118/2000 ] train_loss = 0.19670, train_iou = 0.91808\n"
     ]
    },
    {
     "name": "stderr",
     "output_type": "stream",
     "text": [
      "100%|██████████| 5/5 [00:04<00:00,  1.02it/s]\n"
     ]
    },
    {
     "name": "stdout",
     "output_type": "stream",
     "text": [
      "[ Valid | 118/2000 ] test_loss  = 0.17373, test_loss = 0.17373\n",
      "[ Valid | 119/2000 ] test_loss = 0.17373, test_iou = 0.95544\n",
      "Train Loss : 0.19670221403889035, Test Loss : 0.1737288862466812 , Test IOU : 0.9554441361886713 , best Test mIOU : 0.958972451304273\n",
      "Epoch : 119/2000 , learning rate : 0.00095\n"
     ]
    },
    {
     "name": "stderr",
     "output_type": "stream",
     "text": [
      "100%|██████████| 23/23 [00:28<00:00,  1.25s/it]\n"
     ]
    },
    {
     "name": "stdout",
     "output_type": "stream",
     "text": [
      "[ Train | 127/2000 ] train_loss = 0.17840, train_iou = 0.92957\n"
     ]
    },
    {
     "name": "stderr",
     "output_type": "stream",
     "text": [
      "100%|██████████| 5/5 [00:04<00:00,  1.04it/s]\n"
     ]
    },
    {
     "name": "stdout",
     "output_type": "stream",
     "text": [
      "[ Valid | 127/2000 ] test_loss  = 0.18845, test_loss = 0.18845\n",
      "[ Valid | 128/2000 ] test_loss = 0.18845, test_iou = 0.94174\n",
      "Train Loss : 0.17840186992417212, Test Loss : 0.18845076858997345 , Test IOU : 0.9417397102392442 , best Test mIOU : 0.9654017359096233\n",
      "Epoch : 128/2000 , learning rate : 0.00095\n"
     ]
    },
    {
     "name": "stderr",
     "output_type": "stream",
     "text": [
      "100%|██████████| 23/23 [00:29<00:00,  1.26s/it]\n"
     ]
    },
    {
     "name": "stdout",
     "output_type": "stream",
     "text": [
      "[ Train | 128/2000 ] train_loss = 0.20122, train_iou = 0.94737\n"
     ]
    },
    {
     "name": "stderr",
     "output_type": "stream",
     "text": [
      "100%|██████████| 5/5 [00:04<00:00,  1.03it/s]\n"
     ]
    },
    {
     "name": "stdout",
     "output_type": "stream",
     "text": [
      "[ Valid | 128/2000 ] test_loss  = 0.15520, test_loss = 0.15520\n",
      "[ Valid | 129/2000 ] test_loss = 0.15520, test_iou = 0.96316\n",
      "Train Loss : 0.20121848324070807, Test Loss : 0.15520215332508086 , Test IOU : 0.963159079309085 , best Test mIOU : 0.9654017359096233\n",
      "Epoch : 129/2000 , learning rate : 0.00095\n"
     ]
    },
    {
     "name": "stderr",
     "output_type": "stream",
     "text": [
      "100%|██████████| 23/23 [00:28<00:00,  1.24s/it]\n"
     ]
    },
    {
     "name": "stdout",
     "output_type": "stream",
     "text": [
      "[ Train | 137/2000 ] train_loss = 0.18156, train_iou = 0.91023\n"
     ]
    },
    {
     "name": "stderr",
     "output_type": "stream",
     "text": [
      "100%|██████████| 5/5 [00:04<00:00,  1.00it/s]\n"
     ]
    },
    {
     "name": "stdout",
     "output_type": "stream",
     "text": [
      "[ Valid | 137/2000 ] test_loss  = 0.15467, test_loss = 0.15467\n",
      "[ Valid | 138/2000 ] test_loss = 0.15467, test_iou = 0.95355\n",
      "Train Loss : 0.18156016520831897, Test Loss : 0.15466825664043427 , Test IOU : 0.9535478248739645 , best Test mIOU : 0.9654017359096233\n",
      "Epoch : 138/2000 , learning rate : 0.00095\n"
     ]
    },
    {
     "name": "stderr",
     "output_type": "stream",
     "text": [
      "100%|██████████| 23/23 [00:28<00:00,  1.24s/it]\n"
     ]
    },
    {
     "name": "stdout",
     "output_type": "stream",
     "text": [
      "[ Train | 138/2000 ] train_loss = 0.17743, train_iou = 0.93119\n"
     ]
    },
    {
     "name": "stderr",
     "output_type": "stream",
     "text": [
      "100%|██████████| 5/5 [00:04<00:00,  1.02it/s]\n"
     ]
    },
    {
     "name": "stdout",
     "output_type": "stream",
     "text": [
      "[ Valid | 138/2000 ] test_loss  = 0.15157, test_loss = 0.15157\n",
      "[ Valid | 139/2000 ] test_loss = 0.15157, test_iou = 0.94697\n",
      "Train Loss : 0.1774278568184894, Test Loss : 0.15157247185707093 , Test IOU : 0.9469656670051665 , best Test mIOU : 0.9654017359096233\n",
      "Epoch : 139/2000 , learning rate : 0.00095\n"
     ]
    },
    {
     "name": "stderr",
     "output_type": "stream",
     "text": [
      "100%|██████████| 23/23 [00:28<00:00,  1.26s/it]\n"
     ]
    },
    {
     "name": "stdout",
     "output_type": "stream",
     "text": [
      "[ Train | 139/2000 ] train_loss = 0.17772, train_iou = 0.93667\n"
     ]
    },
    {
     "name": "stderr",
     "output_type": "stream",
     "text": [
      "100%|██████████| 5/5 [00:05<00:00,  1.01s/it]\n"
     ]
    },
    {
     "name": "stdout",
     "output_type": "stream",
     "text": [
      "[ Valid | 139/2000 ] test_loss  = 0.15356, test_loss = 0.15356\n",
      "[ Valid | 140/2000 ] test_loss = 0.15356, test_iou = 0.95089\n",
      "Train Loss : 0.17771999602732452, Test Loss : 0.15355837047100068 , Test IOU : 0.9508936033904873 , best Test mIOU : 0.9654017359096233\n",
      "Epoch : 140/2000 , learning rate : 0.00095\n"
     ]
    },
    {
     "name": "stderr",
     "output_type": "stream",
     "text": [
      "100%|██████████| 23/23 [00:29<00:00,  1.27s/it]\n"
     ]
    },
    {
     "name": "stdout",
     "output_type": "stream",
     "text": [
      "[ Train | 140/2000 ] train_loss = 0.17229, train_iou = 0.91404\n"
     ]
    },
    {
     "name": "stderr",
     "output_type": "stream",
     "text": [
      "100%|██████████| 5/5 [00:05<00:00,  1.01s/it]\n"
     ]
    },
    {
     "name": "stdout",
     "output_type": "stream",
     "text": [
      "[ Valid | 140/2000 ] test_loss  = 0.15808, test_loss = 0.15808\n",
      "[ Valid | 141/2000 ] test_loss = 0.15808, test_iou = 0.95673\n",
      "Train Loss : 0.17228667956331503, Test Loss : 0.1580790936946869 , Test IOU : 0.9567273208853532 , best Test mIOU : 0.9654017359096233\n",
      "Epoch : 141/2000 , learning rate : 0.00095\n"
     ]
    },
    {
     "name": "stderr",
     "output_type": "stream",
     "text": [
      "100%|██████████| 23/23 [00:29<00:00,  1.28s/it]\n"
     ]
    },
    {
     "name": "stdout",
     "output_type": "stream",
     "text": [
      "[ Train | 141/2000 ] train_loss = 0.17754, train_iou = 0.90008\n"
     ]
    },
    {
     "name": "stderr",
     "output_type": "stream",
     "text": [
      "100%|██████████| 5/5 [00:05<00:00,  1.02s/it]\n"
     ]
    },
    {
     "name": "stdout",
     "output_type": "stream",
     "text": [
      "[ Valid | 141/2000 ] test_loss  = 0.16248, test_loss = 0.16248\n",
      "[ Valid | 142/2000 ] test_loss = 0.16248, test_iou = 0.95835\n",
      "Train Loss : 0.17753688731919165, Test Loss : 0.16247970163822173 , Test IOU : 0.9583502966955868 , best Test mIOU : 0.9654017359096233\n",
      "Epoch : 142/2000 , learning rate : 0.00095\n"
     ]
    },
    {
     "name": "stderr",
     "output_type": "stream",
     "text": [
      "100%|██████████| 23/23 [00:28<00:00,  1.26s/it]\n"
     ]
    },
    {
     "name": "stdout",
     "output_type": "stream",
     "text": [
      "[ Train | 142/2000 ] train_loss = 0.18591, train_iou = 0.92437\n"
     ]
    },
    {
     "name": "stderr",
     "output_type": "stream",
     "text": [
      "100%|██████████| 5/5 [00:04<00:00,  1.02it/s]\n"
     ]
    },
    {
     "name": "stdout",
     "output_type": "stream",
     "text": [
      "[ Valid | 142/2000 ] test_loss  = 0.17199, test_loss = 0.17199\n",
      "[ Valid | 143/2000 ] test_loss = 0.17199, test_iou = 0.95598\n",
      "Train Loss : 0.18590717276801233, Test Loss : 0.17198534309864044 , Test IOU : 0.9559801599602287 , best Test mIOU : 0.9654017359096233\n",
      "Epoch : 143/2000 , learning rate : 0.00095\n"
     ]
    },
    {
     "name": "stderr",
     "output_type": "stream",
     "text": [
      "100%|██████████| 23/23 [00:28<00:00,  1.25s/it]\n"
     ]
    },
    {
     "name": "stdout",
     "output_type": "stream",
     "text": [
      "[ Train | 143/2000 ] train_loss = 0.18206, train_iou = 0.95473\n"
     ]
    },
    {
     "name": "stderr",
     "output_type": "stream",
     "text": [
      "100%|██████████| 5/5 [00:04<00:00,  1.02it/s]\n"
     ]
    },
    {
     "name": "stdout",
     "output_type": "stream",
     "text": [
      "[ Valid | 143/2000 ] test_loss  = 0.15014, test_loss = 0.15014\n",
      "[ Valid | 144/2000 ] test_loss = 0.15014, test_iou = 0.96088\n",
      "Train Loss : 0.18206093492715256, Test Loss : 0.15013687908649445 , Test IOU : 0.960880642774551 , best Test mIOU : 0.9654017359096233\n",
      "Epoch : 144/2000 , learning rate : 0.00095\n"
     ]
    },
    {
     "name": "stderr",
     "output_type": "stream",
     "text": [
      "100%|██████████| 23/23 [00:28<00:00,  1.24s/it]\n"
     ]
    },
    {
     "name": "stdout",
     "output_type": "stream",
     "text": [
      "[ Train | 144/2000 ] train_loss = 0.17692, train_iou = 0.94949\n"
     ]
    },
    {
     "name": "stderr",
     "output_type": "stream",
     "text": [
      "100%|██████████| 5/5 [00:04<00:00,  1.02it/s]\n"
     ]
    },
    {
     "name": "stdout",
     "output_type": "stream",
     "text": [
      "[ Valid | 144/2000 ] test_loss  = 0.15950, test_loss = 0.15950\n",
      "[ Valid | 145/2000 ] test_loss = 0.15950, test_iou = 0.95792\n",
      "Train Loss : 0.17691999673843384, Test Loss : 0.15950337052345276 , Test IOU : 0.9579209037620368 , best Test mIOU : 0.9654017359096233\n",
      "Epoch : 145/2000 , learning rate : 0.00095\n"
     ]
    },
    {
     "name": "stderr",
     "output_type": "stream",
     "text": [
      "100%|██████████| 23/23 [00:28<00:00,  1.25s/it]\n"
     ]
    },
    {
     "name": "stdout",
     "output_type": "stream",
     "text": [
      "[ Train | 145/2000 ] train_loss = 0.18351, train_iou = 0.91336\n"
     ]
    },
    {
     "name": "stderr",
     "output_type": "stream",
     "text": [
      "100%|██████████| 5/5 [00:04<00:00,  1.04it/s]\n"
     ]
    },
    {
     "name": "stdout",
     "output_type": "stream",
     "text": [
      "[ Valid | 145/2000 ] test_loss  = 0.16847, test_loss = 0.16847\n",
      "[ Valid | 146/2000 ] test_loss = 0.16847, test_iou = 0.95182\n",
      "Train Loss : 0.18351095914840698, Test Loss : 0.1684661477804184 , Test IOU : 0.9518240478835862 , best Test mIOU : 0.9654017359096233\n",
      "Epoch : 146/2000 , learning rate : 0.00095\n"
     ]
    },
    {
     "name": "stderr",
     "output_type": "stream",
     "text": [
      "100%|██████████| 23/23 [00:28<00:00,  1.25s/it]\n"
     ]
    },
    {
     "name": "stdout",
     "output_type": "stream",
     "text": [
      "[ Train | 146/2000 ] train_loss = 0.17185, train_iou = 0.94428\n"
     ]
    },
    {
     "name": "stderr",
     "output_type": "stream",
     "text": [
      "100%|██████████| 5/5 [00:04<00:00,  1.03it/s]\n"
     ]
    },
    {
     "name": "stdout",
     "output_type": "stream",
     "text": [
      "[ Valid | 146/2000 ] test_loss  = 0.15601, test_loss = 0.15601\n",
      "[ Valid | 147/2000 ] test_loss = 0.15601, test_iou = 0.95136\n",
      "Train Loss : 0.1718545591701632, Test Loss : 0.15601128339767456 , Test IOU : 0.9513563154256088 , best Test mIOU : 0.9654017359096233\n",
      "Epoch : 147/2000 , learning rate : 0.00095\n"
     ]
    },
    {
     "name": "stderr",
     "output_type": "stream",
     "text": [
      "100%|██████████| 23/23 [00:28<00:00,  1.25s/it]\n"
     ]
    },
    {
     "name": "stdout",
     "output_type": "stream",
     "text": [
      "[ Train | 147/2000 ] train_loss = 0.17197, train_iou = 0.94867\n"
     ]
    },
    {
     "name": "stderr",
     "output_type": "stream",
     "text": [
      "100%|██████████| 5/5 [00:04<00:00,  1.03it/s]\n"
     ]
    },
    {
     "name": "stdout",
     "output_type": "stream",
     "text": [
      "[ Valid | 147/2000 ] test_loss  = 0.15206, test_loss = 0.15206\n",
      "[ Valid | 148/2000 ] test_loss = 0.15206, test_iou = 0.93988\n",
      "Train Loss : 0.17197100040705307, Test Loss : 0.15206200182437896 , Test IOU : 0.9398794141804642 , best Test mIOU : 0.9654017359096233\n",
      "Epoch : 148/2000 , learning rate : 0.00095\n"
     ]
    },
    {
     "name": "stderr",
     "output_type": "stream",
     "text": [
      "100%|██████████| 23/23 [00:28<00:00,  1.25s/it]\n"
     ]
    },
    {
     "name": "stdout",
     "output_type": "stream",
     "text": [
      "[ Train | 148/2000 ] train_loss = 0.16730, train_iou = 0.94202\n"
     ]
    },
    {
     "name": "stderr",
     "output_type": "stream",
     "text": [
      "100%|██████████| 5/5 [00:04<00:00,  1.02it/s]\n"
     ]
    },
    {
     "name": "stdout",
     "output_type": "stream",
     "text": [
      "[ Valid | 148/2000 ] test_loss  = 0.15447, test_loss = 0.15447\n",
      "[ Valid | 149/2000 ] test_loss = 0.15447, test_iou = 0.95701\n",
      "Train Loss : 0.1673039243273113, Test Loss : 0.15447238981723785 , Test IOU : 0.9570145811290928 , best Test mIOU : 0.9654017359096233\n",
      "Epoch : 149/2000 , learning rate : 0.00095\n"
     ]
    },
    {
     "name": "stderr",
     "output_type": "stream",
     "text": [
      "100%|██████████| 23/23 [00:28<00:00,  1.23s/it]\n"
     ]
    },
    {
     "name": "stdout",
     "output_type": "stream",
     "text": [
      "[ Train | 149/2000 ] train_loss = 0.16381, train_iou = 0.94159\n"
     ]
    },
    {
     "name": "stderr",
     "output_type": "stream",
     "text": [
      "100%|██████████| 5/5 [00:04<00:00,  1.02it/s]\n"
     ]
    },
    {
     "name": "stdout",
     "output_type": "stream",
     "text": [
      "[ Valid | 149/2000 ] test_loss  = 0.15852, test_loss = 0.15852\n",
      "[ Valid | 150/2000 ] test_loss = 0.15852, test_iou = 0.95414\n",
      "Train Loss : 0.1638054530257764, Test Loss : 0.15852051079273224 , Test IOU : 0.954143282774775 , best Test mIOU : 0.9654017359096233\n",
      "Epoch : 150/2000 , learning rate : 0.00095\n"
     ]
    },
    {
     "name": "stderr",
     "output_type": "stream",
     "text": [
      "100%|██████████| 23/23 [00:28<00:00,  1.23s/it]\n"
     ]
    },
    {
     "name": "stdout",
     "output_type": "stream",
     "text": [
      "[ Train | 160/2000 ] train_loss = 0.16188, train_iou = 0.94236\n"
     ]
    },
    {
     "name": "stderr",
     "output_type": "stream",
     "text": [
      "100%|██████████| 5/5 [00:04<00:00,  1.04it/s]\n"
     ]
    },
    {
     "name": "stdout",
     "output_type": "stream",
     "text": [
      "[ Valid | 160/2000 ] test_loss  = 0.15120, test_loss = 0.15120\n",
      "[ Valid | 161/2000 ] test_loss = 0.15120, test_iou = 0.96000\n",
      "Train Loss : 0.16187725507694742, Test Loss : 0.15120409727096557 , Test IOU : 0.9600025858920038 , best Test mIOU : 0.9654017359096233\n",
      "Epoch : 161/2000 , learning rate : 0.00095\n"
     ]
    },
    {
     "name": "stderr",
     "output_type": "stream",
     "text": [
      "100%|██████████| 23/23 [00:28<00:00,  1.23s/it]\n"
     ]
    },
    {
     "name": "stdout",
     "output_type": "stream",
     "text": [
      "[ Train | 161/2000 ] train_loss = 0.16517, train_iou = 0.95482\n"
     ]
    },
    {
     "name": "stderr",
     "output_type": "stream",
     "text": [
      "100%|██████████| 5/5 [00:04<00:00,  1.03it/s]\n"
     ]
    },
    {
     "name": "stdout",
     "output_type": "stream",
     "text": [
      "[ Valid | 161/2000 ] test_loss  = 0.14796, test_loss = 0.14796\n",
      "[ Valid | 162/2000 ] test_loss = 0.14796, test_iou = 0.96173\n",
      "Train Loss : 0.1651733090048251, Test Loss : 0.14796081483364104 , Test IOU : 0.9617322316841925 , best Test mIOU : 0.9654017359096233\n",
      "Epoch : 162/2000 , learning rate : 0.00095\n"
     ]
    },
    {
     "name": "stderr",
     "output_type": "stream",
     "text": [
      "100%|██████████| 23/23 [00:28<00:00,  1.23s/it]\n"
     ]
    },
    {
     "name": "stdout",
     "output_type": "stream",
     "text": [
      "[ Train | 162/2000 ] train_loss = 0.16370, train_iou = 0.93814\n"
     ]
    },
    {
     "name": "stderr",
     "output_type": "stream",
     "text": [
      "100%|██████████| 5/5 [00:05<00:00,  1.00s/it]\n"
     ]
    },
    {
     "name": "stdout",
     "output_type": "stream",
     "text": [
      "[ Valid | 162/2000 ] test_loss  = 0.15129, test_loss = 0.15129\n",
      "[ Valid | 163/2000 ] test_loss = 0.15129, test_iou = 0.95823\n",
      "Train Loss : 0.1637046129807182, Test Loss : 0.1512930601835251 , Test IOU : 0.9582258462798485 , best Test mIOU : 0.9654017359096233\n",
      "Epoch : 163/2000 , learning rate : 0.00095\n"
     ]
    },
    {
     "name": "stderr",
     "output_type": "stream",
     "text": [
      "100%|██████████| 23/23 [00:29<00:00,  1.26s/it]\n"
     ]
    },
    {
     "name": "stdout",
     "output_type": "stream",
     "text": [
      "[ Train | 163/2000 ] train_loss = 0.15825, train_iou = 0.93187\n"
     ]
    },
    {
     "name": "stderr",
     "output_type": "stream",
     "text": [
      "100%|██████████| 5/5 [00:04<00:00,  1.03it/s]\n"
     ]
    },
    {
     "name": "stdout",
     "output_type": "stream",
     "text": [
      "[ Valid | 163/2000 ] test_loss  = 0.14938, test_loss = 0.14938\n",
      "[ Valid | 164/2000 ] test_loss = 0.14938, test_iou = 0.95292\n",
      "Train Loss : 0.15824859297793845, Test Loss : 0.14937919974327088 , Test IOU : 0.9529245399576519 , best Test mIOU : 0.9654017359096233\n",
      "Epoch : 164/2000 , learning rate : 0.00095\n"
     ]
    },
    {
     "name": "stderr",
     "output_type": "stream",
     "text": [
      "100%|██████████| 23/23 [00:28<00:00,  1.26s/it]\n"
     ]
    },
    {
     "name": "stdout",
     "output_type": "stream",
     "text": [
      "[ Train | 164/2000 ] train_loss = 0.15917, train_iou = 0.94133\n"
     ]
    },
    {
     "name": "stderr",
     "output_type": "stream",
     "text": [
      "100%|██████████| 5/5 [00:05<00:00,  1.05s/it]\n"
     ]
    },
    {
     "name": "stdout",
     "output_type": "stream",
     "text": [
      "[ Valid | 164/2000 ] test_loss  = 0.15434, test_loss = 0.15434\n",
      "[ Valid | 165/2000 ] test_loss = 0.15434, test_iou = 0.95005\n",
      "Train Loss : 0.1591741585213205, Test Loss : 0.15433881878852845 , Test IOU : 0.9500549533674626 , best Test mIOU : 0.9654017359096233\n",
      "Epoch : 165/2000 , learning rate : 0.00095\n"
     ]
    },
    {
     "name": "stderr",
     "output_type": "stream",
     "text": [
      "100%|██████████| 23/23 [00:29<00:00,  1.28s/it]\n"
     ]
    },
    {
     "name": "stdout",
     "output_type": "stream",
     "text": [
      "[ Train | 165/2000 ] train_loss = 0.16156, train_iou = 0.94488\n"
     ]
    },
    {
     "name": "stderr",
     "output_type": "stream",
     "text": [
      "100%|██████████| 5/5 [00:05<00:00,  1.03s/it]\n"
     ]
    },
    {
     "name": "stdout",
     "output_type": "stream",
     "text": [
      "[ Valid | 165/2000 ] test_loss  = 0.15538, test_loss = 0.15538\n",
      "[ Valid | 166/2000 ] test_loss = 0.15538, test_iou = 0.95355\n",
      "Train Loss : 0.16155567894811215, Test Loss : 0.15538051426410676 , Test IOU : 0.9535518072474721 , best Test mIOU : 0.9654017359096233\n",
      "Epoch : 166/2000 , learning rate : 0.00095\n"
     ]
    },
    {
     "name": "stderr",
     "output_type": "stream",
     "text": [
      "100%|██████████| 23/23 [00:30<00:00,  1.31s/it]\n"
     ]
    },
    {
     "name": "stdout",
     "output_type": "stream",
     "text": [
      "[ Train | 166/2000 ] train_loss = 0.15621, train_iou = 0.94696\n"
     ]
    },
    {
     "name": "stderr",
     "output_type": "stream",
     "text": [
      "100%|██████████| 5/5 [00:05<00:00,  1.02s/it]\n"
     ]
    },
    {
     "name": "stdout",
     "output_type": "stream",
     "text": [
      "[ Valid | 166/2000 ] test_loss  = 0.14340, test_loss = 0.14340\n",
      "[ Valid | 167/2000 ] test_loss = 0.14340, test_iou = 0.96090\n",
      "Train Loss : 0.15620798099300134, Test Loss : 0.14340394139289855 , Test IOU : 0.9608964655424488 , best Test mIOU : 0.9654017359096233\n",
      "Epoch : 167/2000 , learning rate : 0.00095\n"
     ]
    },
    {
     "name": "stderr",
     "output_type": "stream",
     "text": [
      "100%|██████████| 23/23 [00:30<00:00,  1.32s/it]\n"
     ]
    },
    {
     "name": "stdout",
     "output_type": "stream",
     "text": [
      "[ Train | 167/2000 ] train_loss = 0.15648, train_iou = 0.96182\n"
     ]
    },
    {
     "name": "stderr",
     "output_type": "stream",
     "text": [
      "100%|██████████| 5/5 [00:04<00:00,  1.01it/s]\n"
     ]
    },
    {
     "name": "stdout",
     "output_type": "stream",
     "text": [
      "[ Valid | 167/2000 ] test_loss  = 0.14691, test_loss = 0.14691\n",
      "[ Valid | 168/2000 ] test_loss = 0.14691, test_iou = 0.95937\n",
      "Train Loss : 0.15647881121739096, Test Loss : 0.14690672755241393 , Test IOU : 0.9593694014735693 , best Test mIOU : 0.9654017359096233\n",
      "Epoch : 168/2000 , learning rate : 0.00095\n"
     ]
    },
    {
     "name": "stderr",
     "output_type": "stream",
     "text": [
      "100%|██████████| 23/23 [00:29<00:00,  1.29s/it]\n"
     ]
    },
    {
     "name": "stdout",
     "output_type": "stream",
     "text": [
      "[ Train | 168/2000 ] train_loss = 0.16499, train_iou = 0.95557\n"
     ]
    },
    {
     "name": "stderr",
     "output_type": "stream",
     "text": [
      "100%|██████████| 5/5 [00:05<00:00,  1.01s/it]\n"
     ]
    },
    {
     "name": "stdout",
     "output_type": "stream",
     "text": [
      "[ Valid | 168/2000 ] test_loss  = 0.15241, test_loss = 0.15241\n",
      "[ Valid | 169/2000 ] test_loss = 0.15241, test_iou = 0.95671\n",
      "Train Loss : 0.1649852077598157, Test Loss : 0.15240636467933655 , Test IOU : 0.9567093275144412 , best Test mIOU : 0.9654017359096233\n",
      "Epoch : 169/2000 , learning rate : 0.00095\n"
     ]
    },
    {
     "name": "stderr",
     "output_type": "stream",
     "text": [
      "100%|██████████| 23/23 [00:29<00:00,  1.28s/it]\n"
     ]
    },
    {
     "name": "stdout",
     "output_type": "stream",
     "text": [
      "[ Train | 169/2000 ] train_loss = 0.15929, train_iou = 0.95378\n"
     ]
    },
    {
     "name": "stderr",
     "output_type": "stream",
     "text": [
      "100%|██████████| 5/5 [00:04<00:00,  1.02it/s]\n"
     ]
    },
    {
     "name": "stdout",
     "output_type": "stream",
     "text": [
      "[ Valid | 169/2000 ] test_loss  = 0.16206, test_loss = 0.16206\n",
      "[ Valid | 170/2000 ] test_loss = 0.16206, test_iou = 0.95826\n",
      "Train Loss : 0.15929385760556097, Test Loss : 0.16206457316875458 , Test IOU : 0.9582601712774819 , best Test mIOU : 0.9654017359096233\n",
      "Epoch : 170/2000 , learning rate : 0.00095\n"
     ]
    },
    {
     "name": "stderr",
     "output_type": "stream",
     "text": [
      "100%|██████████| 23/23 [00:29<00:00,  1.29s/it]\n"
     ]
    },
    {
     "name": "stdout",
     "output_type": "stream",
     "text": [
      "[ Train | 170/2000 ] train_loss = 0.16352, train_iou = 0.95449\n"
     ]
    },
    {
     "name": "stderr",
     "output_type": "stream",
     "text": [
      "100%|██████████| 5/5 [00:04<00:00,  1.01it/s]\n"
     ]
    },
    {
     "name": "stdout",
     "output_type": "stream",
     "text": [
      "[ Valid | 170/2000 ] test_loss  = 0.15308, test_loss = 0.15308\n",
      "[ Valid | 171/2000 ] test_loss = 0.15308, test_iou = 0.96336\n",
      "Train Loss : 0.1635233902412912, Test Loss : 0.15308200120925902 , Test IOU : 0.9633636596167545 , best Test mIOU : 0.9654017359096233\n",
      "Epoch : 171/2000 , learning rate : 0.00095\n"
     ]
    },
    {
     "name": "stderr",
     "output_type": "stream",
     "text": [
      "100%|██████████| 23/23 [00:29<00:00,  1.27s/it]\n"
     ]
    },
    {
     "name": "stdout",
     "output_type": "stream",
     "text": [
      "[ Train | 171/2000 ] train_loss = 0.16392, train_iou = 0.92460\n"
     ]
    },
    {
     "name": "stderr",
     "output_type": "stream",
     "text": [
      "100%|██████████| 5/5 [00:04<00:00,  1.02it/s]\n"
     ]
    },
    {
     "name": "stdout",
     "output_type": "stream",
     "text": [
      "[ Valid | 171/2000 ] test_loss  = 0.16502, test_loss = 0.16502\n",
      "[ Valid | 172/2000 ] test_loss = 0.16502, test_iou = 0.97157 -> best\n",
      "Best model found at epoch 171, saving model\n",
      "Train Loss : 0.16391975141089896, Test Loss : 0.1650151640176773 , Test IOU : 0.9715694644737967 , best Test mIOU : 0.9715694644737967\n",
      "Epoch : 172/2000 , learning rate : 0.00095\n"
     ]
    },
    {
     "name": "stderr",
     "output_type": "stream",
     "text": [
      "100%|██████████| 23/23 [00:28<00:00,  1.25s/it]\n"
     ]
    },
    {
     "name": "stdout",
     "output_type": "stream",
     "text": [
      "[ Train | 172/2000 ] train_loss = 0.16383, train_iou = 0.93283\n"
     ]
    },
    {
     "name": "stderr",
     "output_type": "stream",
     "text": [
      "100%|██████████| 5/5 [00:04<00:00,  1.02it/s]\n"
     ]
    },
    {
     "name": "stdout",
     "output_type": "stream",
     "text": [
      "[ Valid | 172/2000 ] test_loss  = 0.15209, test_loss = 0.15209\n",
      "[ Valid | 173/2000 ] test_loss = 0.15209, test_iou = 0.96246\n",
      "Train Loss : 0.16382740243621494, Test Loss : 0.15209248960018157 , Test IOU : 0.9624575839567463 , best Test mIOU : 0.9715694644737967\n",
      "Epoch : 173/2000 , learning rate : 0.00095\n"
     ]
    },
    {
     "name": "stderr",
     "output_type": "stream",
     "text": [
      "100%|██████████| 23/23 [00:28<00:00,  1.26s/it]\n"
     ]
    },
    {
     "name": "stdout",
     "output_type": "stream",
     "text": [
      "[ Train | 173/2000 ] train_loss = 0.16966, train_iou = 0.92433\n"
     ]
    },
    {
     "name": "stderr",
     "output_type": "stream",
     "text": [
      "100%|██████████| 5/5 [00:04<00:00,  1.02it/s]\n"
     ]
    },
    {
     "name": "stdout",
     "output_type": "stream",
     "text": [
      "[ Valid | 173/2000 ] test_loss  = 0.15259, test_loss = 0.15259\n",
      "[ Valid | 174/2000 ] test_loss = 0.15259, test_iou = 0.96246\n",
      "Train Loss : 0.16965851317281308, Test Loss : 0.1525876671075821 , Test IOU : 0.9624552801751524 , best Test mIOU : 0.9715694644737967\n",
      "Epoch : 174/2000 , learning rate : 0.00095\n"
     ]
    },
    {
     "name": "stderr",
     "output_type": "stream",
     "text": [
      "100%|██████████| 23/23 [00:28<00:00,  1.26s/it]\n"
     ]
    },
    {
     "name": "stdout",
     "output_type": "stream",
     "text": [
      "[ Train | 174/2000 ] train_loss = 0.17066, train_iou = 0.92830\n"
     ]
    },
    {
     "name": "stderr",
     "output_type": "stream",
     "text": [
      "100%|██████████| 23/23 [00:29<00:00,  1.28s/it]\n"
     ]
    },
    {
     "name": "stdout",
     "output_type": "stream",
     "text": [
      "[ Train | 184/2000 ] train_loss = 0.15161, train_iou = 0.93948\n"
     ]
    },
    {
     "name": "stderr",
     "output_type": "stream",
     "text": [
      "100%|██████████| 5/5 [00:04<00:00,  1.02it/s]\n"
     ]
    },
    {
     "name": "stdout",
     "output_type": "stream",
     "text": [
      "[ Valid | 184/2000 ] test_loss  = 0.14279, test_loss = 0.14279\n",
      "[ Valid | 185/2000 ] test_loss = 0.14279, test_iou = 0.97068\n",
      "Train Loss : 0.15160634336264237, Test Loss : 0.14278926253318786 , Test IOU : 0.9706773047966498 , best Test mIOU : 0.9715694644737967\n",
      "Epoch : 185/2000 , learning rate : 0.00095\n"
     ]
    },
    {
     "name": "stderr",
     "output_type": "stream",
     "text": [
      " 65%|██████▌   | 15/23 [00:20<00:10,  1.36s/it]\n"
     ]
    },
    {
     "ename": "KeyboardInterrupt",
     "evalue": "",
     "output_type": "error",
     "traceback": [
      "\u001b[0;31m---------------------------------------------------------------------------\u001b[0m",
      "\u001b[0;31mKeyboardInterrupt\u001b[0m                         Traceback (most recent call last)",
      "Cell \u001b[0;32mIn[33], line 1\u001b[0m\n\u001b[0;32m----> 1\u001b[0m \u001b[43mmain\u001b[49m\u001b[43m(\u001b[49m\u001b[43m)\u001b[49m\n",
      "Cell \u001b[0;32mIn[32], line 100\u001b[0m, in \u001b[0;36mmain\u001b[0;34m()\u001b[0m\n\u001b[1;32m     98\u001b[0m \u001b[38;5;28;01mfor\u001b[39;00m epoch \u001b[38;5;129;01min\u001b[39;00m \u001b[38;5;28mrange\u001b[39m(current_epoch, epoches):\n\u001b[1;32m     99\u001b[0m     \u001b[38;5;28mprint\u001b[39m(\u001b[38;5;124m\"\u001b[39m\u001b[38;5;124mEpoch : \u001b[39m\u001b[38;5;132;01m{}\u001b[39;00m\u001b[38;5;124m/\u001b[39m\u001b[38;5;132;01m{}\u001b[39;00m\u001b[38;5;124m , learning rate : \u001b[39m\u001b[38;5;132;01m{}\u001b[39;00m\u001b[38;5;124m\"\u001b[39m\u001b[38;5;241m.\u001b[39mformat(epoch,epoches,optimizer\u001b[38;5;241m.\u001b[39mparam_groups[\u001b[38;5;241m0\u001b[39m][\u001b[38;5;124m'\u001b[39m\u001b[38;5;124mlr\u001b[39m\u001b[38;5;124m'\u001b[39m]))\n\u001b[0;32m--> 100\u001b[0m     train_loss, train_iou \u001b[38;5;241m=\u001b[39m \u001b[43mtrain\u001b[49m\u001b[43m(\u001b[49m\u001b[43mdataLoader_train\u001b[49m\u001b[43m,\u001b[49m\u001b[43mportrait_net\u001b[49m\u001b[43m,\u001b[49m\u001b[43moptimizer\u001b[49m\u001b[43m,\u001b[49m\u001b[43mdevice\u001b[49m\u001b[43m)\u001b[49m\n\u001b[1;32m    101\u001b[0m      \u001b[38;5;66;03m# Print the information.\u001b[39;00m\n\u001b[1;32m    102\u001b[0m     \u001b[38;5;28mprint\u001b[39m(\u001b[38;5;124mf\u001b[39m\u001b[38;5;124m\"\u001b[39m\u001b[38;5;124m[ Train | \u001b[39m\u001b[38;5;132;01m{\u001b[39;00mepoch\u001b[38;5;132;01m:\u001b[39;00m\u001b[38;5;124m03d\u001b[39m\u001b[38;5;132;01m}\u001b[39;00m\u001b[38;5;124m/\u001b[39m\u001b[38;5;132;01m{\u001b[39;00mepoches\u001b[38;5;132;01m:\u001b[39;00m\u001b[38;5;124m03d\u001b[39m\u001b[38;5;132;01m}\u001b[39;00m\u001b[38;5;124m ] train_loss = \u001b[39m\u001b[38;5;132;01m{\u001b[39;00mtrain_loss\u001b[38;5;132;01m:\u001b[39;00m\u001b[38;5;124m.5f\u001b[39m\u001b[38;5;132;01m}\u001b[39;00m\u001b[38;5;124m, train_iou = \u001b[39m\u001b[38;5;132;01m{\u001b[39;00mtrain_iou\u001b[38;5;132;01m:\u001b[39;00m\u001b[38;5;124m.5f\u001b[39m\u001b[38;5;132;01m}\u001b[39;00m\u001b[38;5;124m\"\u001b[39m)\n",
      "Cell \u001b[0;32mIn[31], line 48\u001b[0m, in \u001b[0;36mtrain\u001b[0;34m(dataloader, model, optimizer, device)\u001b[0m\n\u001b[1;32m     44\u001b[0m \u001b[38;5;66;03m# for i, (input_deformation, input_texture, mask, mask_boundary) in enumerate(loader):\u001b[39;00m\n\u001b[1;32m     45\u001b[0m \u001b[38;5;28;01mfor\u001b[39;00m i, (input_deformation, input_texture, mask_boundary, mask) \u001b[38;5;129;01min\u001b[39;00m \u001b[38;5;28menumerate\u001b[39m(loader):\n\u001b[1;32m     46\u001b[0m \n\u001b[1;32m     47\u001b[0m     \u001b[38;5;66;03m#Send to device\u001b[39;00m\n\u001b[0;32m---> 48\u001b[0m     input_deformation \u001b[38;5;241m=\u001b[39m \u001b[43minput_deformation\u001b[49m\u001b[38;5;241;43m.\u001b[39;49m\u001b[43mto\u001b[49m\u001b[43m(\u001b[49m\u001b[43mdevice\u001b[49m\u001b[43m)\u001b[49m\n\u001b[1;32m     49\u001b[0m     input_texture \u001b[38;5;241m=\u001b[39m input_texture\u001b[38;5;241m.\u001b[39mto(device)\n\u001b[1;32m     50\u001b[0m     mask \u001b[38;5;241m=\u001b[39m mask\u001b[38;5;241m.\u001b[39mto(device)\n",
      "\u001b[0;31mKeyboardInterrupt\u001b[0m: "
     ]
    }
   ],
   "source": [
    "main()"
   ]
  },
  {
   "cell_type": "code",
   "execution_count": null,
   "id": "43f20e6f-e706-4b32-aa8c-addcb749ff01",
   "metadata": {},
   "outputs": [],
   "source": [
    "import matplotlib.pyplot as plt\n",
    "\n",
    "plt.figure()                   # 设置图片信息 例如：plt.figure(num = 2,figsize=(640,480))\n",
    "y_train_loss = train_losses        # loss值，即y轴\n",
    "x_train_loss = range(len(y_train_loss))\n",
    "plt.plot(x_train_loss, y_train_loss, linewidth=1, linestyle=\"solid\", label=\"train loss\")        # epoch_losses 传入模型训练中的 loss[]列表,在训练过程中，先创建loss列表，将每一个epoch的loss 加进这个列表\n",
    "plt.ylabel('loss')\n",
    "plt.xlabel('epoch')\n",
    "plt.legend()        #个性化图例（颜色、形状等）\n",
    "plt.savefig(\"./train_loss.jpg\")"
   ]
  }
 ],
 "metadata": {
  "kernelspec": {
   "display_name": "Python 3 (ipykernel)",
   "language": "python",
   "name": "python3"
  },
  "language_info": {
   "codemirror_mode": {
    "name": "ipython",
    "version": 3
   },
   "file_extension": ".py",
   "mimetype": "text/x-python",
   "name": "python",
   "nbconvert_exporter": "python",
   "pygments_lexer": "ipython3",
   "version": "3.8.10"
  }
 },
 "nbformat": 4,
 "nbformat_minor": 5
}

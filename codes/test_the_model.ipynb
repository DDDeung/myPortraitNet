{
 "cells": [
  {
   "cell_type": "code",
   "execution_count": 25,
   "id": "26ac842f-1ce5-4e86-8d21-08203e0d15b4",
   "metadata": {},
   "outputs": [],
   "source": [
    "import numpy as np\n",
    "import torch\n",
    "from torch.utils.data import DataLoader\n",
    "from train import *\n",
    "# from test import *\n",
    "from portraitNet import ProtraitNet\n",
    "import torchvision.models.mobilenetv2\n",
    "from easydict import EasyDict as edict\n",
    "from data.datasets import *"
   ]
  },
  {
   "cell_type": "code",
   "execution_count": 26,
   "id": "b3406154-8505-4340-b27e-2eeffe7553a6",
   "metadata": {},
   "outputs": [],
   "source": [
    "from tqdm import tqdm\n",
    "import torch\n",
    "import torch.nn as nn\n",
    "import numpy as np\n",
    "from loss import *\n",
    "from torch.autograd import Variable\n",
    "import copy\n",
    "from metrice import *\n",
    "\n",
    "# -----model hyperparameters-------\n",
    "# temperature in consistency constraint loss\n",
    "temperature = 1\n",
    "# the weight of consistency constraint loss\n",
    "alpha = 2\n",
    "\n",
    "\n",
    "def test(dataloader, model , device = \"cpu\"):\n",
    "    # switch to eval mode\n",
    "    model.eval()# switch to eval mode\n",
    "    \n",
    "    loss_Focalloss = FocalLoss(gamma=2)\n",
    "    loss_Softmax = nn.CrossEntropyLoss(ignore_index=255)\n",
    "    losses = []\n",
    "    \n",
    "    loader = tqdm(dataloader)\n",
    "    iou = 0\n",
    "\n",
    "    with torch.no_grad():\n",
    "        # for idx, (img, mask, mask_boundary) in enumerate(loader):\n",
    "        for i, (input_ori, input, edge, mask) in enumerate(loader):\n",
    "            # Send to device\n",
    "            input_ori = input_ori.to(device)\n",
    "            input = input.to(device)\n",
    "            mask = mask.to(device)\n",
    "            edge = edge.to(device)\n",
    "\n",
    "            # load input to model\n",
    "            output_mask_texture, output_edge_texture = model(input)\n",
    "            output_mask_deformation, output_edge_deformation = model(input_ori)\n",
    "\n",
    "            # mask loss and edge loss\n",
    "            loss_mask_texture = loss_Softmax(output_mask_texture, mask)\n",
    "            loss_edge_texture = loss_Focalloss(output_edge_texture, edge) * 0.1\n",
    "            loss_mask_deformation = loss_Softmax(output_mask_deformation, mask)\n",
    "            loss_edge_deformation = loss_Focalloss(output_edge_deformation, edge) * 0.1\n",
    "\n",
    "            # consistency constraint loss: KL distance\n",
    "            loss_kl_mask = loss_KL(output_mask_texture, Variable(output_mask_deformation.data, requires_grad=False),\n",
    "                                temperature) * alpha\n",
    "            loss_kl_edge = loss_KL(output_edge_texture, Variable(output_edge_deformation.data, requires_grad=False),\n",
    "                                temperature) * alpha * 0.1\n",
    "\n",
    "            #total loss\n",
    "            # loss = loss_mask_texture + loss_edge_texture + loss_mask_deformation + loss_edge_deformation + loss_kl_mask + loss_kl_edge\n",
    "            # loss = loss_mask + loss_mask_ori + loss_kl_mask + loss_edge\n",
    "            loss = loss_mask_texture + loss_mask_deformation + loss_kl_mask + loss_edge_texture\n",
    "                \n",
    "            losses.append(loss.item())\n",
    "\n",
    "            softmax = nn.Softmax(dim=1)\n",
    "            prob = softmax(output_mask_texture)[0,1,:,:]\n",
    "            pred = prob.data.cpu().numpy()\n",
    "            pred[pred>0.5] = 1\n",
    "            pred[pred<=0.5] = 0\n",
    "            iou += calcIOU(pred, mask[0].data.cpu().numpy())\n",
    "\n",
    "    return sum(losses)/len(losses),  iou / len(loader)"
   ]
  },
  {
   "cell_type": "code",
   "execution_count": 27,
   "id": "0831750c-45d0-485e-b825-2319e7a22a20",
   "metadata": {},
   "outputs": [],
   "source": [
    "device = torch.device(\"cuda\" if torch.cuda.is_available() else \"cpu\")\n",
    "# -------use official dataset definition--------------\n",
    "exp_args = edict()\n",
    "exp_args.istrain = True\n",
    "exp_args.task = 'seg'\n",
    "exp_args.datasetlist =['EG1800']\n",
    "exp_args.data_root = './datasets/'\n",
    "exp_args.file_root = './datasets/EG1800/'\n",
    "\n",
    "exp_args.input_height = 224\n",
    "exp_args.input_width = 224\n",
    "\n",
    "\n",
    "exp_args.prior_prob = 0.5 # the probability to set empty prior channel\n",
    "\n",
    "exp_args.edgeRatio = 0.1 # the weight of boundary auxiliary loss\n",
    "# exp_args.stability = True\n",
    "exp_args.temperature = 1 # the temperature in consistency constraint loss, default=1\n",
    "exp_args.alpha = 2 # the weight of consistency constraint loss, default=2\n",
    "############################\n",
    "exp_args.padding_color=128 # input normalization parameters\n",
    "exp_args.img_scale = 1\n",
    "exp_args.img_mean = [103.94, 116.78, 123.68] # BGR order, image mean\n",
    "exp_args.img_val = [0.017, 0.017, 0.017] # BGR order, image val, default=[1/0.017, 1/0.017, 1/0.017]\n",
    "##########################\n",
    "exp_args.init = False # whether to use pretrained model to init portraitnet\n",
    "exp_args.resume = False # whether to continue training\n",
    "\n",
    "# set training dataset\n",
    "exp_args.learning_rate = 1e-3\n",
    "exp_args.momentum = 0.9\n",
    "exp_args.weight_decay = 5e-4\n",
    "exp_args.batch_size = 1\n",
    "#######################下面没什么用\n",
    "exp_args.addEdge = True\n",
    "exp_args.stability = True\n",
    "exp_args.use_kl = True\n",
    "exp_args.useUpsample = False\n",
    "exp_args.useDeconvGroup = False\n",
    "exp_args.video = False\n",
    "exp_args.istrain = True\n",
    "\n",
    "dataset_train = Human(exp_args)\n",
    "dataLoader_train = torch.utils.data.DataLoader(dataset_train, batch_size=64,\n",
    "                                               shuffle=True)\n",
    "\n",
    "# set testing dataset\n",
    "exp_args.istrain = False\n",
    "dataset_test = Human(exp_args)\n",
    "dataLoader_test = torch.utils.data.DataLoader(dataset_test, batch_size=64,\n",
    "                                              shuffle=False)\n"
   ]
  },
  {
   "cell_type": "code",
   "execution_count": 28,
   "id": "336e40e6-edbe-474d-adb1-b4f264e790dc",
   "metadata": {
    "tags": []
   },
   "outputs": [
    {
     "name": "stderr",
     "output_type": "stream",
     "text": [
      "  0%|          | 0/5 [00:00<?, ?it/s]/Users/koala/Desktop/cuhksz2023sem1/cv/portraitNet/myPortraitNet/loss.py:41: UserWarning: Implicit dimension choice for log_softmax has been deprecated. Change the call to include dim=X as an argument.\n",
      "  logpt = F.log_softmax(input)\n",
      "/Users/koala/miniforge3/envs/pytorch/lib/python3.10/site-packages/torch/nn/functional.py:2943: UserWarning: reduction: 'mean' divides the total loss by both the batch size and the support size.'batchmean' divides only by the batch size, and aligns with the KL div math definition.'mean' will be changed to behave the same as 'batchmean' in the next major release.\n",
      "  warnings.warn(\n",
      "100%|██████████| 5/5 [00:34<00:00,  6.88s/it]"
     ]
    },
    {
     "name": "stdout",
     "output_type": "stream",
     "text": [
      " test_loss = 0.12371, test_iou = 0.97246\n"
     ]
    },
    {
     "name": "stderr",
     "output_type": "stream",
     "text": [
      "\n"
     ]
    }
   ],
   "source": [
    "# device = torch.device(\"cuda\" if torch.cuda.is_available() else \"cpu\")\n",
    "device = \"cpu\"\n",
    "model_best = ProtraitNet(n_class=2).to(device)\n",
    "model_best.load_state_dict(torch.load(\"./myPortraitNet_usepretrained.ckpt\", map_location=torch.device('cpu')))\n",
    "test_loss,test_iou = test(dataLoader_test,model_best,device)\n",
    "print(f\" test_loss = {test_loss:.5f}, test_iou = {test_iou:.5f}\")"
   ]
  },
  {
   "cell_type": "code",
   "execution_count": null,
   "id": "c5532a95-b1b9-433b-b92a-ddbb5b15b0b0",
   "metadata": {},
   "outputs": [],
   "source": []
  }
 ],
 "metadata": {
  "kernelspec": {
   "display_name": "Python 3 (ipykernel)",
   "language": "python",
   "name": "python3"
  },
  "language_info": {
   "codemirror_mode": {
    "name": "ipython",
    "version": 3
   },
   "file_extension": ".py",
   "mimetype": "text/x-python",
   "name": "python",
   "nbconvert_exporter": "python",
   "pygments_lexer": "ipython3",
   "version": "3.10.12"
  }
 },
 "nbformat": 4,
 "nbformat_minor": 5
}
